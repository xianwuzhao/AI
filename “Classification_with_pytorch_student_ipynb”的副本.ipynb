{
  "nbformat": 4,
  "nbformat_minor": 0,
  "metadata": {
    "colab": {
      "provenance": [],
      "toc_visible": true,
      "gpuType": "T4"
    },
    "kernelspec": {
      "display_name": "Python 3",
      "name": "python3"
    },
    "language_info": {
      "codemirror_mode": {
        "name": "ipython",
        "version": 3
      },
      "file_extension": ".py",
      "mimetype": "text/x-python",
      "name": "python",
      "nbconvert_exporter": "python",
      "pygments_lexer": "ipython3",
      "version": "3.7.5"
    },
    "accelerator": "GPU"
  },
  "cells": [
    {
      "cell_type": "markdown",
      "metadata": {
        "id": "QcJK3kXl--c3"
      },
      "source": [
        "# CS 190I Homework 3: Multi-class classification in pytorch\n",
        "In this machine problem (MP), you will learn the basic concepts in pytorch. You will then use `torch.nn` to implement a neural network and use `torch.autograd` to calculate the gradient and train your model.\n",
        "\n",
        "**Acknolwedgement:**  Part of this notebook was originally written by [Justin Johnson](https://web.eecs.umich.edu/~justincj/) for CS231N at Stanford and EECSE498 at UMich."
      ]
    },
    {
      "cell_type": "markdown",
      "metadata": {
        "id": "1MEmHrgBsgX4"
      },
      "source": [
        "# PyTorch Introduction"
      ]
    },
    {
      "cell_type": "markdown",
      "metadata": {
        "id": "c3e_Nux0siHo"
      },
      "source": [
        "[PyTorch](https://pytorch.org/) is an open source machine learning framework. At its core, PyTorch provides a few key features:\n",
        "\n",
        "- A multidimensional **Tensor** object, similar to [numpy](https://numpy.org/) but with GPU accelleration.\n",
        "- An optimized **autograd** engine for automatically computing derivatives\n",
        "- A clean, modular API for building and deploying **deep learning models**\n",
        "\n",
        "We will use PyTorch for all future assignments throughout the quarter.\n",
        "\n",
        "You can find more information about PyTorch by following one of the [oficial tutorials](https://pytorch.org/tutorials/) or by [reading the documentation](https://pytorch.org/docs/stable/)."
      ]
    },
    {
      "cell_type": "markdown",
      "metadata": {
        "id": "zdiO3_y-vKQ9"
      },
      "source": [
        "To use PyTorch, we first need to import the `torch` package.\n",
        "\n",
        "We also check the version; the assignments in this course will use PyTorch verion 2.1.0."
      ]
    },
    {
      "cell_type": "code",
      "metadata": {
        "id": "sydFm14itrqq"
      },
      "source": [
        "import torch\n",
        "print(torch.__version__)"
      ],
      "execution_count": null,
      "outputs": []
    },
    {
      "cell_type": "markdown",
      "metadata": {
        "id": "HrBSx6hYu8ca"
      },
      "source": [
        "## Tensor Basics"
      ]
    },
    {
      "cell_type": "markdown",
      "metadata": {
        "id": "LWagwmXuvIle"
      },
      "source": [
        "### Creating and Accessing tensors"
      ]
    },
    {
      "cell_type": "markdown",
      "metadata": {
        "id": "Bf_SY4RzvAh_"
      },
      "source": [
        "A `torch` **tensor** is a multidimensional grid of values, all of the same type. The **shape** of a tensor is a tuple of integers giving the size of the array along each dimension.\n",
        "\n",
        "We can initialize `torch` tensor from nested Python lists. We can access or mutate elements of a PyTorch tensor using square brackets.\n",
        "\n",
        "Accessing an element from a PyTorch tensor returns a PyTorch scalar; we can convert this to a Python scalar using the `.item()` method:"
      ]
    },
    {
      "cell_type": "code",
      "metadata": {
        "id": "IpwfVUvPu_lF"
      },
      "source": [
        "# Create a rank 1 tensor from a Python list\n",
        "a = torch.tensor([1, 2, 3])\n",
        "print('Here is a:')\n",
        "print(a)\n",
        "print('type(a): ', type(a))\n",
        "print('a.shape: ', a.shape)\n",
        "\n",
        "# Access elements using square brackets\n",
        "print()\n",
        "print('a[0]: ', a[0])\n",
        "print('type(a[0]): ', type(a[0]))\n",
        "print('type(a[0].item()): ', type(a[0].item()))\n",
        "\n",
        "# Mutate elements using square brackets\n",
        "a[1] = 10\n",
        "print()\n",
        "print('a after mutating:')\n",
        "print(a)"
      ],
      "execution_count": null,
      "outputs": []
    },
    {
      "cell_type": "markdown",
      "metadata": {
        "id": "FZq4zsnLEgXH"
      },
      "source": [
        "The example above shows a one-dimensional tensor; we can similarly create tensors with two or more dimensions:"
      ]
    },
    {
      "cell_type": "code",
      "metadata": {
        "id": "7TcvHxpTFUcL"
      },
      "source": [
        "# Create a two-dimensional tensor\n",
        "b = torch.tensor([[1, 2, 3], [4, 5, 5]])\n",
        "print('Here is b:')\n",
        "print(b)\n",
        "print('b.shape: ', b.shape)\n",
        "\n",
        "# Access elements from a multidimensional tensor\n",
        "print()\n",
        "print('b[0, 1]:', b[0, 1])\n",
        "print('b[1, 2]:', b[1, 2])\n",
        "\n",
        "# Mutate elements of a multidimensional tensor\n",
        "b[1, 1] = 100\n",
        "print()\n",
        "print('b after mutating:')\n",
        "print(b)"
      ],
      "execution_count": null,
      "outputs": []
    },
    {
      "cell_type": "markdown",
      "metadata": {
        "id": "Yz_VDA3IvP33"
      },
      "source": [
        "### Tensor constructors"
      ]
    },
    {
      "cell_type": "markdown",
      "metadata": {
        "id": "BoAlslEdwV-k"
      },
      "source": [
        "PyTorch provides many convenience methods for constructing tensors; this avoids the need to use Python lists. For example:\n",
        "\n",
        "- [`torch.zeros`](https://pytorch.org/docs/1.1.0/torch.html#torch.zeros): Creates a tensor of all zeros\n",
        "- [`torch.ones`](https://pytorch.org/docs/1.1.0/torch.html#torch.ones): Creates a tensor of all ones\n",
        "- [`torch.rand`](https://pytorch.org/docs/1.1.0/torch.html#torch.rand): Creates a tensor with uniform random numbers\n",
        "\n",
        "You can find a full list of tensor creation operations [in the documentation](https://pytorch.org/docs/stable/torch.html#creation-ops)."
      ]
    },
    {
      "cell_type": "code",
      "metadata": {
        "id": "FL6DXGXzxHBA"
      },
      "source": [
        "# Create a tensor of all zeros\n",
        "a = torch.zeros(2, 3)\n",
        "print('tensor of zeros:')\n",
        "print(a)\n",
        "\n",
        "# Create a tensor of all ones\n",
        "b = torch.ones(1, 2)\n",
        "print('\\ntensor of ones:')\n",
        "print(b)\n",
        "\n",
        "# Create a 3x3 identity matrix\n",
        "c = torch.eye(3)\n",
        "print('\\nidentity matrix:')\n",
        "print(c)\n",
        "\n",
        "# Tensor of random values\n",
        "d = torch.rand(4, 5)\n",
        "print('\\nrandom tensor:')\n",
        "print(d)"
      ],
      "execution_count": null,
      "outputs": []
    },
    {
      "cell_type": "markdown",
      "metadata": {
        "id": "Rz_hiJD33fu1"
      },
      "source": [
        "### Datatypes"
      ]
    },
    {
      "cell_type": "markdown",
      "metadata": {
        "id": "GG1xBunZ3ixx"
      },
      "source": [
        "PyTorch provides a [large set of numeric datatypes](https://pytorch.org/docs/stable/tensor_attributes.html#torch.torch.dtype) that you can use to construct tensors. PyTorch tries to guess a datatype when you create a tensor; functions that construct tensors typically have a `dtype` argument that you can use to explicitly specify a datatype.\n",
        "\n",
        "Each tensor has a `dtype` attribute that you can use to check its data type:"
      ]
    },
    {
      "cell_type": "code",
      "metadata": {
        "id": "vREVDf_n31Qz"
      },
      "source": [
        "# Let torch choose the datatype\n",
        "x0 = torch.tensor([1, 2])   # List of integers\n",
        "x1 = torch.tensor([1., 2.]) # List of floats\n",
        "x2 = torch.tensor([1., 2])  # Mixed list\n",
        "print('dtype when torch chooses for us:')\n",
        "print('List of integers:', x0.dtype)\n",
        "print('List of floats:', x1.dtype)\n",
        "print('Mixed list:', x2.dtype)\n",
        "\n",
        "# Force a particular datatype\n",
        "y0 = torch.tensor([1, 2], dtype=torch.float32)  # 32-bit float\n",
        "y1 = torch.tensor([1, 2], dtype=torch.int32)    # 32-bit (signed) integer\n",
        "y2 = torch.tensor([1, 2], dtype=torch.int64)    # 64-bit (signed) integer\n",
        "print('\\ndtype when we force a datatype:')\n",
        "print('32-bit float: ', y0.dtype)\n",
        "print('32-bit integer: ', y1.dtype)\n",
        "print('64-bit integer: ', y2.dtype)"
      ],
      "execution_count": null,
      "outputs": []
    },
    {
      "cell_type": "markdown",
      "metadata": {
        "id": "W2reBgQmx_x4"
      },
      "source": [
        "We can **cast** a tensor to another datatype using the [`.to()`](https://pytorch.org/docs/1.1.0/tensors.html#torch.Tensor.to) method; there are also convenience methods like [`.float()`](https://pytorch.org/docs/1.1.0/tensors.html#torch.Tensor.float) and [`.long()`](https://pytorch.org/docs/1.1.0/tensors.html#torch.Tensor.long) that cast to particular datatypes:\n"
      ]
    },
    {
      "cell_type": "code",
      "metadata": {
        "id": "sAMpwGsdyHAw"
      },
      "source": [
        "x0 = torch.eye(3, dtype=torch.int64)\n",
        "x1 = x0.float()  # Cast to 32-bit float\n",
        "x2 = x0.double() # Cast to 64-bit float\n",
        "x3 = x0.to(torch.float32) # Alternate way to cast to 32-bit float\n",
        "x4 = x0.to(torch.float64) # Alternate way to cast to 64-bit float\n",
        "print('x0:', x0.dtype)\n",
        "print('x1:', x1.dtype)\n",
        "print('x2:', x2.dtype)\n",
        "print('x3:', x3.dtype)\n",
        "print('x4:', x4.dtype)"
      ],
      "execution_count": null,
      "outputs": []
    },
    {
      "cell_type": "markdown",
      "metadata": {
        "id": "RwJL3HVySvXn"
      },
      "source": [
        "Even though PyTorch provides a large number of numeric datatypes, the most commonly used datatypes are:\n",
        "\n",
        "- `torch.float32`: Standard floating-point type; used to store learnable parameters, network activations, etc. Nearly all arithmetic is done using this type.\n",
        "- `torch.int64`: Typically used to store indices\n",
        "- `torch.bool`: Stores boolean values: 0 is false and 1 is true\n",
        "- `torch.float16`: Used for mixed-precision arithmetic, usually on NVIDIA GPUs with [tensor cores](https://www.nvidia.com/en-us/data-center/tensorcore/). You won't need to worry about this datatype in this course."
      ]
    },
    {
      "cell_type": "markdown",
      "metadata": {
        "id": "rlANfnILvX3S"
      },
      "source": [
        "## Tensor indexing"
      ]
    },
    {
      "cell_type": "markdown",
      "metadata": {
        "id": "KP4dRrHhyLO5"
      },
      "source": [
        "We have already seen how to get and set individual elements of PyTorch tensors. PyTorch also provides many other ways of indexing into tensors."
      ]
    },
    {
      "cell_type": "markdown",
      "metadata": {
        "id": "mo-PoTWNvbba"
      },
      "source": [
        "### Slice indexing"
      ]
    },
    {
      "cell_type": "markdown",
      "metadata": {
        "id": "qUqTYvglyVLc"
      },
      "source": [
        "Similar to Python lists and numpy arrays, PyTorch tensors can be **sliced** using the syntax `start:stop` or `start:stop:step`. The `stop` index is always non-inclusive: it is the first element not to be included in the slice.\n",
        "\n",
        "Start and stop indices can be negative, in which case they count backward from the end of the tensor."
      ]
    },
    {
      "cell_type": "code",
      "metadata": {
        "id": "yEr5BzdUdCtZ"
      },
      "source": [
        "a = torch.tensor([0, 11, 22, 33, 44, 55, 66])\n",
        "print(0, a)        # (0) Original tensor\n",
        "print(1, a[2:5])   # (1) Elements between index 2 and 5\n",
        "print(2, a[2:])    # (2) Elements after index 2\n",
        "print(3, a[:5])    # (3) Elements before index 5\n",
        "print(4, a[:])     # (4) All elements\n",
        "print(5, a[1:5:2]) # (5) Every second element between indices 1 and 5\n",
        "print(6, a[:-1])   # (6) All but the last element\n",
        "print(7, a[-4::2]) # (7) Every second element, starting from the fourth-last"
      ],
      "execution_count": null,
      "outputs": []
    },
    {
      "cell_type": "markdown",
      "metadata": {
        "id": "yrcr9PojgTS1"
      },
      "source": [
        "For multidimensional tensors, you can provide a slice or integer for each dimension of the tensor in order to extract different types of subtensors:"
      ]
    },
    {
      "cell_type": "code",
      "metadata": {
        "id": "S5fOdjTUyhNf"
      },
      "source": [
        "a = torch.tensor([[1,2,3,4], [5,6,7,8], [9,10,11,12]])\n",
        "print('Original tensor:')\n",
        "print(a)\n",
        "print('shape: ', a.shape)\n",
        "\n",
        "# Get row 1, and all columns.\n",
        "print('\\nSingle row:')\n",
        "print(a[1, :])\n",
        "print(a[1])  # Gives the same result; we can omit : for trailing dimensions\n",
        "print('shape: ', a[1].shape)\n",
        "\n",
        "print('\\nSingle column:')\n",
        "print(a[:, 1])\n",
        "print('shape: ', a[:, 1].shape)\n",
        "\n",
        "# Get the first two rows and the last three columns\n",
        "print('\\nFirst two rows, last two columns:')\n",
        "print(a[:2, -3:])\n",
        "print('shape: ', a[:2, -3:].shape)\n",
        "\n",
        "# Get every other row, and columns at index 1 and 2\n",
        "print('\\nEvery other row, middle columns:')\n",
        "print(a[::2, 1:3])\n",
        "print('shape: ', a[::2, 1:3].shape)"
      ],
      "execution_count": null,
      "outputs": []
    },
    {
      "cell_type": "markdown",
      "metadata": {
        "id": "gOsR8Pdertku"
      },
      "source": [
        "There are two common ways to access a single row or column of a tensor: using an integer will reduce the rank by one, and using a length-one slice will keep the same rank."
      ]
    },
    {
      "cell_type": "code",
      "metadata": {
        "id": "P1kHcc5jsF-c"
      },
      "source": [
        "# Create the following rank 2 tensor with shape (3, 4)\n",
        "a = torch.tensor([[1,2,3,4], [5,6,7,8], [9,10,11,12]])\n",
        "print('Original tensor')\n",
        "print(a)\n",
        "\n",
        "row_r1 = a[1, :]    # Rank 1 view of the second row of a\n",
        "row_r2 = a[1:2, :]  # Rank 2 view of the second row of a\n",
        "print('\\nTwo ways of accessing a single row:')\n",
        "print(row_r1, row_r1.shape)\n",
        "print(row_r2, row_r2.shape)"
      ],
      "execution_count": null,
      "outputs": []
    },
    {
      "cell_type": "markdown",
      "metadata": {
        "id": "RNjhLwb0xY2A"
      },
      "source": [
        "So far we have used slicing to **access** subtensors; we can also use slicing to **modify** subtensors by writing assignment expressions where the left-hand side is a slice expression, and the right-hand side is a constant or a tensor of the correct shape:"
      ]
    },
    {
      "cell_type": "code",
      "metadata": {
        "id": "DFnky42Rx2I5"
      },
      "source": [
        "a = torch.zeros(2, 4, dtype=torch.int64)\n",
        "a[:, :2] = 1\n",
        "a[:, 2:] = torch.tensor([[2, 3], [4, 5]])\n",
        "print(a)"
      ],
      "execution_count": null,
      "outputs": []
    },
    {
      "cell_type": "markdown",
      "metadata": {
        "id": "4y93rPhGveWw"
      },
      "source": [
        "### Integer tensor indexing"
      ]
    },
    {
      "cell_type": "markdown",
      "metadata": {
        "id": "GlTyhjEN0AIE"
      },
      "source": [
        "When you index into torch tensor using slicing, the resulting tensor view will always be a subarray of the original tensor. This is powerful, but can be restrictive.\n",
        "\n",
        "We can also use **index arrays** to index tensors; this lets us construct new tensors with a lot more flexibility than using slices.\n",
        "\n",
        "As an example, we can use index arrays to reorder the rows or columns of a tensor:"
      ]
    },
    {
      "cell_type": "code",
      "metadata": {
        "id": "IXePPNkjM_SD"
      },
      "source": [
        "a = torch.tensor([[1, 2, 3, 4], [5, 6, 7, 8], [9, 10, 11, 12]])\n",
        "print('Original tensor:')\n",
        "print(a)\n",
        "\n",
        "# Create a new tensor of shape (5, 4) by reordering rows from a:\n",
        "# - First two rows same as the first row of a\n",
        "# - Third row is the same as the last row of a\n",
        "# - Fourth and fifth rows are the same as the second row from a\n",
        "idx = [0, 0, 2, 1, 1]  # index arrays can be Python lists of integers\n",
        "print('\\nReordered rows:')\n",
        "print(a[idx])\n",
        "\n",
        "# Create a new tensor of shape (3, 4) by reversing the columns from a\n",
        "idx = torch.tensor([3, 2, 1, 0])  # Index arrays can be int64 torch tensors\n",
        "print('\\nReordered columns:')\n",
        "print(a[:, idx])"
      ],
      "execution_count": null,
      "outputs": []
    },
    {
      "cell_type": "markdown",
      "metadata": {
        "id": "CpIBR1bCQji6"
      },
      "source": [
        "More generally, given index arrays `idx0` and `idx1` with `N` elements each, `a[idx0, idx1]` is equivalent to:\n",
        "\n",
        "```\n",
        "torch.tensor([\n",
        "  a[idx0[0], idx1[0]],\n",
        "  a[idx0[1], idx1[1]],\n",
        "  ...,\n",
        "  a[idx0[N - 1], idx1[N - 1]]\n",
        "])\n",
        "```\n",
        "\n",
        "(A similar pattern extends to tensors with more than two dimensions)\n",
        "\n",
        "We can for example use this to get or set the diagonal of a tensor:"
      ]
    },
    {
      "cell_type": "code",
      "metadata": {
        "id": "ocIR8R5ZSEaP"
      },
      "source": [
        "a = torch.tensor([[1, 2, 3], [4, 5, 6], [7, 8, 9]])\n",
        "print('Original tensor:')\n",
        "print(a)\n",
        "\n",
        "idx = [0, 1, 2]\n",
        "print('\\nGet the diagonal:')\n",
        "print(a[idx, idx])\n",
        "\n",
        "# Modify the diagonal\n",
        "a[idx, idx] = torch.tensor([11, 22, 33])\n",
        "print('\\nAfter setting the diagonal:')\n",
        "print(a)"
      ],
      "execution_count": null,
      "outputs": []
    },
    {
      "cell_type": "markdown",
      "metadata": {
        "id": "oGt8ZPb_vixw"
      },
      "source": [
        "### Boolean tensor indexing"
      ]
    },
    {
      "cell_type": "markdown",
      "metadata": {
        "id": "6CkQaRj01xmU"
      },
      "source": [
        "Boolean tensor indexing lets you pick out arbitrary elements of a tensor according to a boolean mask. Frequently this type of indexing is used to select or modify the elements of a tensor that satisfy some condition.\n",
        "\n",
        "In PyTorch, we use tensors of dtype `torch.bool` to hold boolean masks."
      ]
    },
    {
      "cell_type": "code",
      "metadata": {
        "id": "29Zf7rb82Dkd"
      },
      "source": [
        "a = torch.tensor([[1,2], [3, 4], [5, 6]])\n",
        "print('Original tensor:')\n",
        "print(a)\n",
        "\n",
        "# Find the elements of a that are bigger than 3. The mask has the same shape as\n",
        "# a, where each element of mask tells whether the corresponding element of a\n",
        "# is greater than three.\n",
        "mask = (a > 3)\n",
        "print('\\nMask tensor:')\n",
        "print(mask)\n",
        "\n",
        "# We can use the mask to construct a rank-1 tensor containing the elements of a\n",
        "# that are selected by the mask\n",
        "print('\\nSelecting elements with the mask:')\n",
        "print(a[mask])\n",
        "\n",
        "# We can also use boolean masks to modify tensors; for example this sets all\n",
        "# elements <= 3 to zero:\n",
        "a[a <= 3] = 0\n",
        "print('\\nAfter modifying with a mask:')\n",
        "print(a)"
      ],
      "execution_count": null,
      "outputs": []
    },
    {
      "cell_type": "markdown",
      "metadata": {
        "id": "Ad-xqELwyqpN"
      },
      "source": [
        "## Reshaping operations"
      ]
    },
    {
      "cell_type": "markdown",
      "metadata": {
        "id": "Ql9_eXuU4OG8"
      },
      "source": [
        "### View"
      ]
    },
    {
      "cell_type": "markdown",
      "metadata": {
        "id": "xfPb_2BY0HKw"
      },
      "source": [
        "PyTorch provides many ways to manipulate the shapes of tensors. The simplest example is [`.view()`](https://pytorch.org/docs/1.1.0/tensors.html#torch.Tensor.view): This returns a new tensor with the same number of elements as its input, but with a different shape.\n",
        "\n",
        "We can use `.view()` to flatten matrices into vectors, and to convert rank-1 vectors into rank-2 row or column matrices:"
      ]
    },
    {
      "cell_type": "code",
      "metadata": {
        "id": "kw-M7C_61FZK"
      },
      "source": [
        "x0 = torch.tensor([[1, 2, 3, 4], [5, 6, 7, 8]])\n",
        "print('Original tensor:')\n",
        "print(x0)\n",
        "print('shape:', x0.shape)\n",
        "\n",
        "# Flatten x0 into a rank 1 vector of shape (8,)\n",
        "x1 = x0.view(8)\n",
        "print('\\nFlattened tensor:')\n",
        "print(x1)\n",
        "print('shape:', x1.shape)\n",
        "\n",
        "# Convert x1 to a rank 2 \"row vector\" of shape (1, 8)\n",
        "x2 = x1.view(1, 8)\n",
        "print('\\nRow vector:')\n",
        "print(x2)\n",
        "print('shape:', x2.shape)\n",
        "\n",
        "# Convert x1 to a rank 2 \"column vector\" of shape (8, 1)\n",
        "x3 = x1.view(8, 1)\n",
        "print('\\nColumn vector:')\n",
        "print(x3)\n",
        "print('shape:', x3.shape)\n",
        "\n",
        "# Convert x1 to a rank 3 tensor of shape (2, 2, 2):\n",
        "x4 = x1.view(2, 2, 2)\n",
        "print('\\nRank 3 tensor:')\n",
        "print(x4)\n",
        "print('shape:', x4.shape)"
      ],
      "execution_count": null,
      "outputs": []
    },
    {
      "cell_type": "markdown",
      "metadata": {
        "id": "eHsZ8BPF2PEq"
      },
      "source": [
        "As a convenience, calls to `.view()` may include a single -1 argument; this puts enough elements on that dimension so that the output has the same shape as the input. This makes it easy to write some reshape operations in a way that is agnostic to the shape of the tensor:"
      ]
    },
    {
      "cell_type": "code",
      "metadata": {
        "id": "qNWu-R_J2qFY"
      },
      "source": [
        "# We can reuse these functions for tensors of different shapes\n",
        "def flatten(x):\n",
        "    return x.view(-1)\n",
        "\n",
        "def make_row_vec(x):\n",
        "    return x.view(1, -1)\n",
        "\n",
        "x0 = torch.tensor([[1, 2, 3], [4, 5, 6]])\n",
        "x0_flat = flatten(x0)\n",
        "x0_row = make_row_vec(x0)\n",
        "print('x0:')\n",
        "print(x0)\n",
        "print('x0_flat:')\n",
        "print(x0_flat)\n",
        "print('x0_row:')\n",
        "print(x0_row)"
      ],
      "execution_count": null,
      "outputs": []
    },
    {
      "cell_type": "markdown",
      "metadata": {
        "id": "DK-ZB5aB2NPq"
      },
      "source": [
        "As its name implies, a tensor returned by `.view()` shares the same data as the input, so changes to one will affect the other and vice-versa:"
      ]
    },
    {
      "cell_type": "code",
      "metadata": {
        "id": "ebT99rUo2McN"
      },
      "source": [
        "x = torch.tensor([[1, 2, 3], [4, 5, 6]])\n",
        "x_flat = x.view(-1)\n",
        "print('x before modifying:')\n",
        "print(x)\n",
        "print('x_flat before modifying:')\n",
        "print(x_flat)\n",
        "\n",
        "x[0, 0] = 10   # x[0, 0] and x_flat[0] point to the same data\n",
        "x_flat[1] = 20 # x_flat[1] and x[0, 1] point to the same data\n",
        "\n",
        "print('\\nx after modifying:')\n",
        "print(x)\n",
        "print('x_flat after modifying:')\n",
        "print(x_flat)"
      ],
      "execution_count": null,
      "outputs": []
    },
    {
      "cell_type": "markdown",
      "metadata": {
        "id": "NgcdvD1evxTQ"
      },
      "source": [
        "## Tensor operations\n",
        "So far we have seen how to construct, access, and reshape tensors. But one of the most important reasons to use tensors is for performing computation! PyTorch provides many different operations to perform computations on tensors."
      ]
    },
    {
      "cell_type": "markdown",
      "metadata": {
        "id": "1BCVlPHZ4_Qz"
      },
      "source": [
        "### Elementwise operations"
      ]
    },
    {
      "cell_type": "markdown",
      "metadata": {
        "id": "f2wbN18E5CKI"
      },
      "source": [
        "Basic mathematical functions operate elementwise on tensors, and are available as operator overloads, as functions in the `torch` module, and as instance methods on torch objects; all produce the same results:"
      ]
    },
    {
      "cell_type": "code",
      "metadata": {
        "id": "QrMkbk535KRZ"
      },
      "source": [
        "x = torch.tensor([[1, 2, 3, 4]], dtype=torch.float32)\n",
        "y = torch.tensor([[5, 6, 7, 8]], dtype=torch.float32)\n",
        "\n",
        "# Elementwise sum; all give the same result\n",
        "print('Elementwise sum:')\n",
        "print(x + y)\n",
        "print(torch.add(x, y))\n",
        "print(x.add(y))\n",
        "\n",
        "# Elementwise difference\n",
        "print('\\nElementwise difference:')\n",
        "print(x - y)\n",
        "print(torch.sub(x, y))\n",
        "print(x.sub(y))\n",
        "\n",
        "# Elementwise product\n",
        "print('\\nElementwise product:')\n",
        "print(x * y)\n",
        "print(torch.mul(x, y))\n",
        "print(x.mul(y))\n",
        "\n",
        "# Elementwise division\n",
        "print('\\nElementwise division')\n",
        "print(x / y)\n",
        "print(torch.div(x, y))\n",
        "print(x.div(y))\n",
        "\n",
        "# Elementwise power\n",
        "print('\\nElementwise power')\n",
        "print(x ** y)\n",
        "print(torch.pow(x, y))\n",
        "print(x.pow(y))"
      ],
      "execution_count": null,
      "outputs": []
    },
    {
      "cell_type": "markdown",
      "metadata": {
        "id": "A6WwPJMYlYvN"
      },
      "source": [
        "Torch also provides many standard mathematical functions; these are available both as functions in the `torch` module and as instance methods on tensors:\n",
        "\n",
        "You can find a full list of all available mathematical functions [in the documentation](https://pytorch.org/docs/stable/torch.html#pointwise-ops); many functions in the `torch` module have corresponding instance methods [on tensor objects](https://pytorch.org/docs/stable/tensors.html)."
      ]
    },
    {
      "cell_type": "code",
      "metadata": {
        "id": "s87mjsnG58vR"
      },
      "source": [
        "x = torch.tensor([[1, 2, 3, 4]], dtype=torch.float32)\n",
        "\n",
        "print('Square root:')\n",
        "print(torch.sqrt(x))\n",
        "print(x.sqrt())\n",
        "\n",
        "print('\\nTrig functions:')\n",
        "print(torch.sin(x))\n",
        "print(x.sin())\n",
        "print(torch.cos(x))\n",
        "print(x.cos())"
      ],
      "execution_count": null,
      "outputs": []
    },
    {
      "cell_type": "markdown",
      "metadata": {
        "id": "yDyH9USAuyZ-"
      },
      "source": [
        "### Reduction operations"
      ]
    },
    {
      "cell_type": "markdown",
      "metadata": {
        "id": "wbHP9SpZHoMO"
      },
      "source": [
        "So far we've seen basic arithmetic operations on tensors that operate elementwise. We may sometimes want to perform operations that aggregate over part or all of a tensor, such as a summation; these are called **reduction** operations.\n",
        "\n",
        "Like the elementwise operations above, most reduction operations are available both as functions in the `torch` module and as instance methods on `tensor` objects.\n",
        "\n",
        "The simplest reduction operation is summation. We can use the [`.sum()`](https://pytorch.org/docs/stable/tensors.html#torch.Tensor.sum) function (or eqivalently [`torch.sum`](https://pytorch.org/docs/stable/generated/torch.sum.html)) to reduce either an entire tensor, or to reduce along only one dimension of the tensor using the `dim` argument:"
      ]
    },
    {
      "cell_type": "code",
      "metadata": {
        "id": "LlmsYJWUE2r3"
      },
      "source": [
        "x = torch.tensor([[1, 2, 3],\n",
        "                  [4, 5, 6]], dtype=torch.float32)\n",
        "print('Original tensor:')\n",
        "print(x)\n",
        "\n",
        "print('\\nSum over entire tensor:')\n",
        "print(torch.sum(x))\n",
        "print(x.sum())\n",
        "\n",
        "# We can sum over each row:\n",
        "print('\\nSum of each row:')\n",
        "print(torch.sum(x, dim=0))\n",
        "print(x.sum(dim=0))\n",
        "\n",
        "# Sum over each column:\n",
        "print('\\nSum of each column:')\n",
        "print(torch.sum(x, dim=1))\n",
        "print(x.sum(dim=1))"
      ],
      "execution_count": null,
      "outputs": []
    },
    {
      "cell_type": "markdown",
      "metadata": {
        "id": "DzKio_3Quz5a"
      },
      "source": [
        "Other useful reduction operations include [`mean`](https://pytorch.org/docs/stable/torch.html#torch.mean), [`min`](https://pytorch.org/docs/stable/torch.html#torch.min), and [`max`](https://pytorch.org/docs/stable/torch.html#torch.max). You can find a full list of all available reduction operations [in the documentation](https://pytorch.org/docs/stable/torch.html#reduction-ops)."
      ]
    },
    {
      "cell_type": "markdown",
      "metadata": {
        "id": "XFwYRESoFr4t"
      },
      "source": [
        "Reduction operations *reduce* the rank of tensors: the dimension over which you perform the reduction will be removed from the shape of the output. If you pass `keepdim=True` to a reduction operation, the specified dimension will not be removed; the output tensor will instead have a shape of 1 in that dimension.\n",
        "\n",
        "When you are working with multidimensional tensors, thinking about rows and columns can become confusing; instead it's more useful to think about the shape that will result from each operation. For example:"
      ]
    },
    {
      "cell_type": "code",
      "metadata": {
        "id": "sjcAveyJFqm7"
      },
      "source": [
        "# Create a tensor of shape (128, 10, 3, 64, 64)\n",
        "x = torch.randn(128, 10, 3, 64, 64)\n",
        "print(x.shape)\n",
        "\n",
        "# Take the mean over dimension 1; shape is now (128, 3, 64, 64)\n",
        "x = x.mean(dim=1)\n",
        "print(x.shape)\n",
        "\n",
        "# Take the sum over dimension 2; shape is now (128, 3, 64)\n",
        "x = x.sum(dim=2)\n",
        "print(x.shape)\n",
        "\n",
        "# Take the mean over dimension 1, but keep the dimension from being eliminated\n",
        "# by passing keepdim=True; shape is now (128, 1, 64)\n",
        "x = x.mean(dim=1, keepdim=True)\n",
        "print(x.shape)"
      ],
      "execution_count": null,
      "outputs": []
    },
    {
      "cell_type": "markdown",
      "metadata": {
        "id": "lRyLyXU2u29N"
      },
      "source": [
        "### Matrix operations"
      ]
    },
    {
      "cell_type": "markdown",
      "metadata": {
        "id": "7DwjbapG6MM_"
      },
      "source": [
        "Note that unlike MATLAB, * is elementwise multiplication, not matrix multiplication. PyTorch provides a number of linear algebra functions that compute different types of vector and matrix products. The most commonly used are:\n",
        "\n",
        "- [`torch.dot`](https://pytorch.org/docs/stable/generated/torch.dot.html#torch.dot): Computes inner product of vectors\n",
        "- [`torch.mm`](https://pytorch.org/docs/stable/generated/torch.mm.html#torch.mm): Computes matrix-matrix products\n",
        "- [`torch.mv`](https://pytorch.org/docs/stable/generated/torch.mv.html#torch.mv): Computes matrix-vector products\n",
        "- [`torch.bmm`](https://pytorch.org/docs/stable/generated/torch.bmm.html#torch.bmm) / [`torch.baddmm`](https://pytorch.org/docs/stable/generated/torch.baddbmm.html#torch.baddbmm): Batched versions of `torch.mm` and `torch.addmm`, respectively\n",
        "- [`torch.matmul`](https://pytorch.org/docs/stable/generated/torch.matmul.html#torch.matmul): General matrix product that performs different operations depending on the rank of the inputs. Confusingly, this is similar to `np.dot` in numpy.\n",
        "\n",
        "You can find a full list of the available linear algebra operators [in the documentation](https://pytorch.org/docs/stable/torch.html#blas-and-lapack-operations).\n",
        "\n",
        "Here is an example of using `torch.dot` to compute inner products. Like the other mathematical operators we've seen, most linear algebra operators are available both as functions in the `torch` module and as instance methods of tensors:"
      ]
    },
    {
      "cell_type": "code",
      "metadata": {
        "id": "TRUYW2as6ZCh"
      },
      "source": [
        "v = torch.tensor([9,10], dtype=torch.float32)\n",
        "w = torch.tensor([11, 12], dtype=torch.float32)\n",
        "\n",
        "# Inner product of vectors\n",
        "print('Dot products:')\n",
        "print(torch.dot(v, w))\n",
        "print(v.dot(w))\n",
        "\n",
        "# dot only works for vectors -- it will give an error for tensors of rank > 1\n",
        "x = torch.tensor([[1,2],[3,4]], dtype=torch.float32)\n",
        "y = torch.tensor([[5,6],[7,8]], dtype=torch.float32)\n",
        "try:\n",
        "  print(x.dot(y))\n",
        "except RuntimeError as e:\n",
        "  print(e)\n",
        "\n",
        "# Instead we use mm for matrix-matrix products:\n",
        "print('\\nMatrix-matrix product:')\n",
        "print(torch.mm(x, y))\n",
        "print(x.mm(y))"
      ],
      "execution_count": null,
      "outputs": []
    },
    {
      "cell_type": "markdown",
      "metadata": {
        "id": "mbCVOr2sVTRR"
      },
      "source": [
        "### Vectorization\n",
        "In many cases, avoiding explicit Python loops in your code and instead using PyTorch operators to handle looping internally will cause your code to run a lot faster. This style of writing code, called **vectorization**, avoids overhead from the Python interpreter, and can also better parallelize the computation (e.g. across CPU cores, on on GPUs). Whenever possible you should strive to write vectorized code.\n",
        "\n",
        "**Task 1:** Complete the following cell to compare the speed of summing two matrices with for loop and Pytorch tensor operation."
      ]
    },
    {
      "cell_type": "code",
      "metadata": {
        "id": "a-acTIOpVTRR"
      },
      "source": [
        "import time\n",
        "\n",
        "# Create random tensors\n",
        "d = 50\n",
        "x = torch.randn(d, d, d)\n",
        "y = torch.randn(d, d, d)\n",
        "\n",
        "sum_loop = torch.zeros(d, d, d)\n",
        "start_time = time.time()\n",
        "## TODO: Summation using for loop\n",
        "\n",
        "## End of your code\n",
        "print(f\"Number of seconds: {time.time() - start_time}\")\n",
        "\n",
        "start_time = time.time()\n",
        "sum_torch = None\n",
        "# TODO: use tensor operation\n",
        "\n",
        "## End of your code\n",
        "print(f\"Number of seconds: {time.time() - start_time}\")\n",
        "\n",
        "# Check the results are equal\n",
        "assert torch.equal(sum_loop, sum_torch)"
      ],
      "execution_count": null,
      "outputs": []
    },
    {
      "cell_type": "markdown",
      "metadata": {
        "id": "UISn2pcf9QjY"
      },
      "source": [
        "## Broadcasting"
      ]
    },
    {
      "cell_type": "markdown",
      "metadata": {
        "id": "fTj6f8VN9UZg"
      },
      "source": [
        "Broadcasting is a powerful mechanism that allows PyTorch to work with arrays of different shapes when performing arithmetic operations. Frequently we have a smaller tensor and a larger tensor, and we want to use the smaller tensor multiple times to perform some operation on the larger tensor.\n",
        "\n",
        "For example, suppose that we want to add a constant vector to each row of a tensor. We could do it like this:\n"
      ]
    },
    {
      "cell_type": "code",
      "metadata": {
        "id": "kF0Dhzlu9fef"
      },
      "source": [
        "# We will add the vector v to each row of the matrix x,\n",
        "# storing the result in the matrix y\n",
        "x = torch.tensor([[1,2,3], [4,5,6], [7,8,9], [10, 11, 12]])\n",
        "v = torch.tensor([1, 0, 1])\n",
        "y = torch.zeros_like(x)   # Create an empty matrix with the same shape as x\n",
        "\n",
        "# Add the vector v to each row of the matrix x with an explicit loop\n",
        "for i in range(4):\n",
        "    y[i, :] = x[i, :] + v\n",
        "\n",
        "print(y)"
      ],
      "execution_count": null,
      "outputs": []
    },
    {
      "cell_type": "markdown",
      "metadata": {
        "id": "7gXpoBKE9vp7"
      },
      "source": [
        "This works; however when the tensor x is very large, computing an explicit loop in Python could be slow. Note that adding the vector v to each row of the tensor x is equivalent to forming a tensor vv by stacking multiple copies of v vertically, then performing elementwise summation of x and vv. We could implement this approach like this:\n"
      ]
    },
    {
      "cell_type": "code",
      "metadata": {
        "id": "_2_5cKeu94c2"
      },
      "source": [
        "vv = v.repeat((4, 1))  # Stack 4 copies of v on top of each other\n",
        "print(vv)              # Prints \"[[1 0 1]\n",
        "                       #          [1 0 1]\n",
        "                       #          [1 0 1]\n",
        "                       #          [1 0 1]]\""
      ],
      "execution_count": null,
      "outputs": []
    },
    {
      "cell_type": "code",
      "metadata": {
        "id": "1KiRj23p-QIs"
      },
      "source": [
        "y = x + vv  # Add x and vv elementwise\n",
        "print(y)"
      ],
      "execution_count": null,
      "outputs": []
    },
    {
      "cell_type": "markdown",
      "metadata": {
        "id": "A7NNlSsHBKib"
      },
      "source": [
        "PyTorch broadcasting allows us to perform this computation without actually creating multiple copies of v. Consider this version, using broadcasting:"
      ]
    },
    {
      "cell_type": "code",
      "metadata": {
        "id": "2jIiZc-ABBnt"
      },
      "source": [
        "# We will add the vector v to each row of the matrix x,\n",
        "# storing the result in the matrix y\n",
        "x = torch.tensor([[1,2,3], [4,5,6], [7,8,9], [10, 11, 12]])\n",
        "v = torch.tensor([1, 0, 1])\n",
        "y = x + v  # Add v to each row of x using broadcasting\n",
        "print(y)"
      ],
      "execution_count": null,
      "outputs": []
    },
    {
      "cell_type": "markdown",
      "metadata": {
        "id": "HuUBX8YnBSIG"
      },
      "source": [
        "The line y = x + v works even though x has shape (4, 3) and v has shape (3,) due to broadcasting; this line works as if v actually had shape (4, 3), where each row was a copy of v, and the sum was performed elementwise.\n",
        "\n",
        "Broadcasting two tensors together follows these rules:\n",
        "\n",
        "1.   If the tensors do not have the same rank, prepend the shape of the lower rank array with 1s until both shapes have the same length.\n",
        "2.   The two tensors are said to be *compatible* in a dimension if they have the same size in the dimension, or if one of the tensors has size 1 in that dimension.\n",
        "3.   The tensors can be broadcast together if they are compatible in all dimensions.\n",
        "4.   After broadcasting, each tensor behaves as if it had shape equal to the elementwise maximum of shapes of the two input tensors.\n",
        "5.   In any dimension where one tensor had size 1 and the other tensor had size greater than 1, the first tensor behaves as if it were copied along that dimension\n",
        "\n",
        "If this explanation does not make sense, try reading the explanation from the [documentation](https://pytorch.org/docs/stable/notes/broadcasting.html).\n",
        "\n",
        "Broadcasting usually happens implicitly inside many PyTorch operators. However we can also broadcast explicitly using the function [`torch.broadcast_tensors`](https://pytorch.org/docs/stable/generated/torch.broadcast_tensors.html#torch.broadcast_tensors):"
      ]
    },
    {
      "cell_type": "code",
      "metadata": {
        "id": "YIlIBao3VTRc"
      },
      "source": [
        "x = torch.tensor([[1, 2, 3], [4, 5, 6], [7, 8, 9], [10, 11, 12]])\n",
        "v = torch.tensor([1, 0, 1])\n",
        "print('Here is x (before broadcasting):')\n",
        "print(x)\n",
        "print('x.shape: ', x.shape)\n",
        "print('\\nHere is v (before broadcasting):')\n",
        "print(v)\n",
        "print('v.shape: ', v.shape)\n",
        "\n",
        "xx, vv = torch.broadcast_tensors(x, v)\n",
        "print('Here is xx (after) broadcasting):')\n",
        "print(xx)\n",
        "print('xx.shape: ', x.shape)\n",
        "print('\\nHere is vv (after broadcasting):')\n",
        "print(vv)\n",
        "print('vv.shape: ', vv.shape)"
      ],
      "execution_count": null,
      "outputs": []
    },
    {
      "cell_type": "markdown",
      "metadata": {
        "id": "uN6FfqU9wFeG"
      },
      "source": [
        "## Running on GPU"
      ]
    },
    {
      "cell_type": "markdown",
      "metadata": {
        "id": "Ds6SDTbrwOc1"
      },
      "source": [
        "One of the most important features of PyTorch is that it can use graphics processing units (GPUs) to accelerate its tensor operations.\n",
        "\n",
        "We can easily check whether PyTorch is configured to use GPUs:\n",
        "\n",
        "Tensors can be moved onto any device using the .to method."
      ]
    },
    {
      "cell_type": "code",
      "metadata": {
        "id": "_RkoFEVVKWlW"
      },
      "source": [
        "import torch\n",
        "\n",
        "if torch.cuda.is_available:\n",
        "  print('PyTorch can use GPUs!')\n",
        "else:\n",
        "  print('PyTorch cannot use GPUs.')"
      ],
      "execution_count": null,
      "outputs": []
    },
    {
      "cell_type": "markdown",
      "metadata": {
        "id": "7i_5n_XuKr5k"
      },
      "source": [
        "You can enable GPUs in Colab via Runtime -> Change Runtime Type -> Hardware Accelerator -> GPU.\n",
        "\n",
        "This may cause the Colab runtime to restart, so we will re-import torch in the next cell.\n",
        "\n",
        "We have already seen that PyTorch tensors have a `dtype` attribute specifying their datatype. All PyTorch tensors also have a `device` attribute that specifies the device where the tensor is stored -- either CPU, or CUDA (for NVIDA GPUs). A tensor on a CUDA device will automatically use that device to accelerate all of its operations.\n",
        "\n",
        "Just as with datatypes, we can use the [`.to()`](https://pytorch.org/docs/1.1.0/tensors.html#torch.Tensor.to) method to change the device of a tensor. We can also use the convenience methods `.cuda()` and `.cpu()` methods to move tensors between CPU and GPU."
      ]
    },
    {
      "cell_type": "code",
      "metadata": {
        "id": "D03s614dMCvy"
      },
      "source": [
        "# Construct a tensor on the CPU\n",
        "x0 = torch.tensor([[1, 2], [3, 4]], dtype=torch.float32)\n",
        "print('x0 device:', x0.device)\n",
        "\n",
        "# Move it to the GPU using .to()\n",
        "x1 = x0.to('cuda')\n",
        "print('x1 device:', x1.device)\n",
        "\n",
        "# Move it to the GPU using .cuda()\n",
        "x2 = x0.cuda()\n",
        "print('x2 device:', x2.device)\n",
        "\n",
        "# Move it back to the CPU using .to()\n",
        "x3 = x1.to('cpu')\n",
        "print('x3 device:', x3.device)\n",
        "\n",
        "# Move it back to the CPU using .cpu()\n",
        "x4 = x2.cpu()\n",
        "print('x4 device:', x4.device)\n",
        "\n",
        "# We can construct tensors directly on the GPU as well\n",
        "y = torch.tensor([[1, 2, 3], [4, 5, 6]], dtype=torch.float64, device='cuda')\n",
        "print('y device / dtype:', y.device, y.dtype)\n",
        "\n",
        "# Calling x.to(y) where y is a tensor will return a copy of x with the same\n",
        "# device and dtype as y\n",
        "x5 = x0.to(y)\n",
        "print('x5 device / dtype:', x5.device, x5.dtype)"
      ],
      "execution_count": null,
      "outputs": []
    },
    {
      "cell_type": "markdown",
      "metadata": {
        "id": "O-TDxICdOmJo"
      },
      "source": [
        "Performing large tensor operations on a GPU can be **a lot faster** than running the equivalent operation on CPU.\n",
        "\n",
        "Here we compare the speed of adding two tensors of shape (10000, 10000) on CPU and GPU:\n",
        "\n",
        "(Note that GPU code may run asynchronously with CPU code, so when timing the speed of operations on the GPU it is important to use `torch.cuda.synchronize` to synchronize the CPU and GPU.)"
      ]
    },
    {
      "cell_type": "code",
      "metadata": {
        "id": "GW14ZF-_PK7t"
      },
      "source": [
        "import time\n",
        "\n",
        "a_cpu = torch.randn(10000, 10000, dtype=torch.float32)\n",
        "b_cpu = torch.randn(10000, 10000, dtype=torch.float32)\n",
        "\n",
        "a_gpu = a_cpu.cuda()\n",
        "b_gpu = b_cpu.cuda()\n",
        "torch.cuda.synchronize()\n",
        "\n",
        "t0 = time.time()\n",
        "c_cpu = a_cpu + b_cpu\n",
        "t1 = time.time()\n",
        "c_gpu = a_gpu + b_gpu\n",
        "torch.cuda.synchronize()\n",
        "t2 = time.time()\n",
        "\n",
        "# Check that they computed the same thing\n",
        "diff = (c_gpu.cpu() - c_cpu).abs().max().item()\n",
        "print('Max difference between c_gpu and c_cpu:', diff)\n",
        "\n",
        "cpu_time = 1000.0 * (t1 - t0)\n",
        "gpu_time = 1000.0 * (t2 - t1)\n",
        "print('CPU time: %.2f ms' % cpu_time)\n",
        "print('GPU time: %.2f ms' % gpu_time)\n",
        "print('GPU speedup: %.2f x' % (cpu_time / gpu_time))"
      ],
      "execution_count": null,
      "outputs": []
    },
    {
      "cell_type": "markdown",
      "source": [
        "# Multi-class classification with Pytorch\n",
        "\n",
        "### [torch.autograd](https://pytorch.org/docs/stable/autograd.html)\n",
        "\n",
        "The `torch.autograd` package provides classes and functions implementing automatic differentiation of arbitrary scalar valued functions. To obtain gradients for a tensor via autograd from arbitrary scalar valued functions, you can simply set `requires_grad=True`. Then you can call `backward()` on any scalar that you want to calculate gradient of. The gradients will be accumulated in the `.grad` attribute. You can refer to [this tutorial](https://pytorch.org/tutorials/beginner/blitz/autograd_tutorial.html) for more information.\n",
        "\n",
        "For example, let's calculate $∇_\\boldsymbol{x}||\\boldsymbol{x}||^2$ and verify if it equals $2\\boldsymbol{x}$."
      ],
      "metadata": {
        "id": "NqUKBP_BoeZT"
      }
    },
    {
      "cell_type": "code",
      "source": [
        "# Include packages\n",
        "import math\n",
        "import torch\n",
        "from torch import nn\n",
        "import random\n",
        "import numpy as np\n",
        "from torchvision import datasets, transforms\n",
        "from torch.utils.data import DataLoader\n",
        "import matplotlib.pyplot as plt\n",
        "plt.rcParams[\"savefig.bbox\"] = 'tight'\n",
        "%matplotlib inline"
      ],
      "metadata": {
        "id": "czig9MYOpfcC"
      },
      "execution_count": null,
      "outputs": []
    },
    {
      "cell_type": "code",
      "source": [
        "x = torch.randn(5, requires_grad=True)\n",
        "norm_square = (x**2).sum()\n",
        "\n",
        "# calculate gradient\n",
        "norm_square.backward()\n",
        "\n",
        "print(f\"2x is: {2 * x.data}\")\n",
        "print(f\"gradient is: {x.grad}\")"
      ],
      "metadata": {
        "id": "VCrabaI7pnsX"
      },
      "execution_count": null,
      "outputs": []
    },
    {
      "cell_type": "markdown",
      "source": [
        "**Note:** the gradient is accumulated in the `.grad` attribute, so you need to clear the accumulated gradients before every iteration."
      ],
      "metadata": {
        "id": "z_B3VlLy20z8"
      }
    },
    {
      "cell_type": "markdown",
      "source": [
        "### [torch.nn](https://pytorch.org/docs/stable/nn.html#)\n",
        "The `torch.nn` package defines a set of Modules, including all kinds of layers you might use in a neural network, loss functions, weight initialization functions, etc. In this notebook, we will introduce the [loss functions](https://pytorch.org/docs/stable/nn.html#loss-functions) in `torch.nn`, which define a set of functions you might use for various problems such as regression and classification.\n",
        "\n",
        "For example, the following cell illustrates the use of `nn.MSELoss` to calculate the mean squared error."
      ],
      "metadata": {
        "id": "RD10f1PyxceN"
      }
    },
    {
      "cell_type": "code",
      "source": [
        "x = torch.randn(5)\n",
        "y = torch.randn(5)\n",
        "\n",
        "# calculate MSE with torch\n",
        "mse_th = ((x - y)**2).mean()\n",
        "print(f\"MSE using tensor operations: {mse_th}\")\n",
        "\n",
        "# calculate MSE with nn.MESLoss\n",
        "loss_func = nn.MSELoss()\n",
        "mse_nn = loss_func(x, y)\n",
        "print(f\"MSE using nn: {mse_nn}\")"
      ],
      "metadata": {
        "id": "emgqjKUc16o2"
      },
      "execution_count": null,
      "outputs": []
    },
    {
      "cell_type": "markdown",
      "source": [
        "Now we will use `torch.autograd` to re-train the 10-class classification model on MNIST that you did in Homework 2. Before we get started, we will load and transform images using functions you implemented in Homework 2."
      ],
      "metadata": {
        "id": "tP4sgOSCea-c"
      }
    },
    {
      "cell_type": "code",
      "source": [
        "def reset_seed(seed):\n",
        "    random.seed(seed)\n",
        "    np.random.seed(seed)\n",
        "    torch.manual_seed(seed)\n",
        "\n",
        "\n",
        "def download_mnist():\n",
        "    train_dataset_ = datasets.MNIST('./data', train=True, download=True)\n",
        "    test_dataset_ = datasets.MNIST('./data', train=False, download=True)\n",
        "\n",
        "    return train_dataset_, test_dataset_\n",
        "\n",
        "\n",
        "def normalize_image(image, mean=0.1307, std=0.3081):\n",
        "    \"\"\"\n",
        "    This function normalizes the input Grayscale image into a numpy array.\n",
        "\n",
        "    Return:\n",
        "    normalized_image: array of shape (1, height, width), the pixel value is first\n",
        "    converted to [0, 1] and then normalized with specified mean and std.\n",
        "    \"\"\"\n",
        "    normalized_image = np.array(image).astype(np.float32)\n",
        "    normalized_image = normalized_image / 255.\n",
        "    normalized_image = (normalized_image - mean) / std\n",
        "    normalized_image = normalized_image[None,:,:]\n",
        "\n",
        "    return normalized_image\n",
        "\n",
        "\n",
        "def transform_mnist(dataset):\n",
        "    \"\"\"\n",
        "    This function transforms all images and stacks them in an array.\n",
        "\n",
        "    Return:\n",
        "    features: array of shape (N, 1, height, width)\n",
        "    targets: array of shape (N, 1)\n",
        "    where N is the number of data points in the dataset\n",
        "    \"\"\"\n",
        "    features = []\n",
        "    targets = []\n",
        "\n",
        "    for sample in dataset:\n",
        "        image, label = sample\n",
        "        features.append(normalize_image(image))\n",
        "        targets.append(label)\n",
        "\n",
        "    features = np.stack(features)\n",
        "    targets = np.stack(targets)\n",
        "\n",
        "    return features, targets\n",
        "\n",
        "train_dataset_, test_dataset_ = download_mnist()\n",
        "train_features, train_labels = transform_mnist(train_dataset_)\n",
        "test_features, test_labels = transform_mnist(test_dataset_)\n",
        "print(f\"Training data shape: {train_features.shape}\")\n",
        "print(f\"Training data range: {train_features.min():.2f} - {train_features.max():.2f}\")\n",
        "print(f\"Training label shape: {train_labels.shape}\")\n",
        "print(f\"Training labels: {np.unique(train_labels)}\")"
      ],
      "metadata": {
        "id": "885pm228ezGp"
      },
      "execution_count": null,
      "outputs": []
    },
    {
      "cell_type": "code",
      "source": [
        "# We will first convert the data to pytorch tensor and move it to GPU\n",
        "train_features = torch.from_numpy(train_features).to('cuda')\n",
        "train_features = train_features.reshape(train_features.shape[0], -1)\n",
        "train_labels = torch.from_numpy(train_labels).to('cuda')\n",
        "\n",
        "test_features = torch.from_numpy(test_features).to('cuda')\n",
        "test_features = test_features.reshape(test_features.shape[0], -1)\n",
        "test_labels = torch.from_numpy(test_labels).to('cuda')"
      ],
      "metadata": {
        "id": "lk4609PjsE6G"
      },
      "execution_count": null,
      "outputs": []
    },
    {
      "cell_type": "markdown",
      "source": [
        "## Homework (Due Nov 11th, 11:59 PM PST)\n",
        "**Problem 1:** Complete the `train_stochastic_gradient_descent` function that utilizes `torch.autograd` and `torch.nn` to do SGD. You should manually write the weight update step, i.e., do not use `torch.optim`."
      ],
      "metadata": {
        "id": "pINI6AAu3KwK"
      }
    },
    {
      "cell_type": "code",
      "source": [
        "import torch\n",
        "import matplotlib.pyplot as plt\n",
        "import math\n",
        "import numpy as np"
      ],
      "metadata": {
        "id": "01ujfcuTppW1"
      },
      "execution_count": null,
      "outputs": []
    },
    {
      "cell_type": "code",
      "source": [
        "def random_shuffle(features, targets):\n",
        "    idx = torch.randperm(features.shape[0], device=features.device)\n",
        "    shuffled_features = features[idx]\n",
        "    shuffled_targets = targets[idx]\n",
        "\n",
        "    return (shuffled_features, shuffled_targets)\n",
        "\n",
        "\n",
        "def visualize_loss_acc(losses, accs):\n",
        "    '''\n",
        "    This function plots the loss curve and accuracy curve using matplotlib.\n",
        "    '''\n",
        "    # use matplotlib plot train curves\n",
        "    plt.figure(figsize=(8, 12))\n",
        "    plt.subplot(2, 1, 1)\n",
        "\n",
        "    plt.plot(range(len(losses)), losses)\n",
        "    plt.xlabel('Iter #')\n",
        "    plt.ylabel('Loss')\n",
        "    plt.title('Training loss vs iteration number')\n",
        "\n",
        "    plt.subplot(2, 1, 2)\n",
        "    plt.plot(range(len(accs)), accs)\n",
        "    plt.xlabel('Iter #')\n",
        "    plt.ylabel('Acc')\n",
        "    plt.title('Training accuracy vs iteration number')\n",
        "\n",
        "    # Show the figure.\n",
        "    plt.show()\n",
        "\n",
        "\n",
        "def train_stochastic_gradient_descent(num_epochs, batch_size, lr, W, train_features, train_targets):\n",
        "    '''\n",
        "    This function trains the model w using stochastic gradient desent on the dataset (train_features, train_targets).\n",
        "    Returns:\n",
        "    w_star: the optimized model parameter w.\n",
        "    '''\n",
        "\n",
        "    losses = []\n",
        "    accs = []\n",
        "\n",
        "    ## TODO: define loss function\n",
        "    loss_fn = torch.nn.MSELoss()\n",
        "    # Ensure that the model's parameters and data have the same data type (float)\n",
        "    W = W.to(train_features.dtype)\n",
        "    ## End of your code\n",
        "\n",
        "    # Train loop\n",
        "    for i in range(num_epochs):\n",
        "        ## TODO: shuffle training data\n",
        "        train_features, train_targets = random_shuffle(train_features, train_targets)\n",
        "        ## End of your code\n",
        "        epoch_step = math.ceil(train_features.shape[0] / batch_size)\n",
        "        for j in range(epoch_step):\n",
        "            ## TODO: get features and labels for the batch\n",
        "            start_idx = j * batch_size\n",
        "            end_idx = min((j + 1) * batch_size, train_features.shape[0])\n",
        "            batch_features = train_features[start_idx:end_idx]\n",
        "            batch_labels = train_targets[start_idx:end_idx]\n",
        "            # Forward pass\n",
        "            predictions = torch.matmul(batch_features, W)\n",
        "            ## TODO: calculate loss and gradient\n",
        "            # Calculate loss\n",
        "            loss = loss_fn(predictions, batch_labels)\n",
        "\n",
        "            # Zero the gradients\n",
        "            W.grad = None\n",
        "            # Backpropagation to compute gradients\n",
        "            loss.backward()\n",
        "            ## TODO: update parameters\n",
        "            with torch.no_grad():\n",
        "                W -= lr * W.grad\n",
        "            pass\n",
        "            ## End of your code\n",
        "\n",
        "        loss, acc = None, None\n",
        "        ## TODO: calculate loss, predictions, and accuracy\n",
        "        correct_predictions = torch.argmax(predictions, dim=1)\n",
        "        accuracy = (correct_predictions == batch_labels).float().mean()\n",
        "        accs.append(accuracy.item())  # Append accuracy to the list\n",
        "\n",
        "        losses.append(loss.item())\n",
        "        ## End of your code\n",
        "\n",
        "        losses.append(loss.item())\n",
        "        accs.append(acc.item())\n",
        "\n",
        "    W_star = W\n",
        "\n",
        "    print(\"Training done\")\n",
        "    visualize_loss_acc(losses, accs)\n",
        "    return W_star"
      ],
      "metadata": {
        "id": "JtpwI21Su6PS"
      },
      "execution_count": 84,
      "outputs": []
    },
    {
      "cell_type": "code",
      "source": [
        "# STOCHASTIC GRADIENT DESCENT HYPER-PARAMETERS\n",
        "num_epochs = 10\n",
        "batch_size = 256\n",
        "lr = 0.2\n",
        "\n",
        "W = None\n",
        "########################################\n",
        "## TODO: initialize model weight      ##\n",
        "########################################\n",
        "num_features = 1\n",
        "num_classes = 2\n",
        "W = torch.rand((num_features, num_classes), requires_grad=True)\n",
        "\n",
        "# Generate some example data (you should replace this with your dataset)\n",
        "train_features = torch.randn((1000, num_features))\n",
        "train_targets = torch.randint(0, num_classes, (1000,))\n",
        "########################################\n",
        "############ End of your code ##########\n",
        "########################################\n",
        "W_star = train_stochastic_gradient_descent(num_epochs, batch_size, lr, W, train_features, train_labels)"
      ],
      "metadata": {
        "id": "xhOQxY0ywiId",
        "colab": {
          "base_uri": "https://localhost:8080/",
          "height": 358
        },
        "outputId": "57e6882b-cd4f-4a9c-c2b5-7cc3b0ff0160"
      },
      "execution_count": 88,
      "outputs": [
        {
          "output_type": "error",
          "ename": "RuntimeError",
          "evalue": "ignored",
          "traceback": [
            "\u001b[0;31m---------------------------------------------------------------------------\u001b[0m",
            "\u001b[0;31mRuntimeError\u001b[0m                              Traceback (most recent call last)",
            "\u001b[0;32m<ipython-input-88-91ba3350e450>\u001b[0m in \u001b[0;36m<cell line: 20>\u001b[0;34m()\u001b[0m\n\u001b[1;32m     18\u001b[0m \u001b[0;31m############ End of your code ##########\u001b[0m\u001b[0;34m\u001b[0m\u001b[0;34m\u001b[0m\u001b[0m\n\u001b[1;32m     19\u001b[0m \u001b[0;31m########################################\u001b[0m\u001b[0;34m\u001b[0m\u001b[0;34m\u001b[0m\u001b[0m\n\u001b[0;32m---> 20\u001b[0;31m \u001b[0mW_star\u001b[0m \u001b[0;34m=\u001b[0m \u001b[0mtrain_stochastic_gradient_descent\u001b[0m\u001b[0;34m(\u001b[0m\u001b[0mnum_epochs\u001b[0m\u001b[0;34m,\u001b[0m \u001b[0mbatch_size\u001b[0m\u001b[0;34m,\u001b[0m \u001b[0mlr\u001b[0m\u001b[0;34m,\u001b[0m \u001b[0mW\u001b[0m\u001b[0;34m,\u001b[0m \u001b[0mtrain_features\u001b[0m\u001b[0;34m,\u001b[0m \u001b[0mtrain_labels\u001b[0m\u001b[0;34m)\u001b[0m\u001b[0;34m\u001b[0m\u001b[0;34m\u001b[0m\u001b[0m\n\u001b[0m",
            "\u001b[0;32m<ipython-input-84-a6ef14db14e6>\u001b[0m in \u001b[0;36mtrain_stochastic_gradient_descent\u001b[0;34m(num_epochs, batch_size, lr, W, train_features, train_targets)\u001b[0m\n\u001b[1;32m     62\u001b[0m             \u001b[0;31m## TODO: calculate loss and gradient\u001b[0m\u001b[0;34m\u001b[0m\u001b[0;34m\u001b[0m\u001b[0m\n\u001b[1;32m     63\u001b[0m             \u001b[0;31m# Calculate loss\u001b[0m\u001b[0;34m\u001b[0m\u001b[0;34m\u001b[0m\u001b[0m\n\u001b[0;32m---> 64\u001b[0;31m             \u001b[0mloss\u001b[0m \u001b[0;34m=\u001b[0m \u001b[0mloss_fn\u001b[0m\u001b[0;34m(\u001b[0m\u001b[0mpredictions\u001b[0m\u001b[0;34m,\u001b[0m \u001b[0mbatch_labels\u001b[0m\u001b[0;34m)\u001b[0m\u001b[0;34m\u001b[0m\u001b[0;34m\u001b[0m\u001b[0m\n\u001b[0m\u001b[1;32m     65\u001b[0m \u001b[0;34m\u001b[0m\u001b[0m\n\u001b[1;32m     66\u001b[0m             \u001b[0;31m# Zero the gradients\u001b[0m\u001b[0;34m\u001b[0m\u001b[0;34m\u001b[0m\u001b[0m\n",
            "\u001b[0;32m/usr/local/lib/python3.10/dist-packages/torch/nn/modules/module.py\u001b[0m in \u001b[0;36m_wrapped_call_impl\u001b[0;34m(self, *args, **kwargs)\u001b[0m\n\u001b[1;32m   1516\u001b[0m             \u001b[0;32mreturn\u001b[0m \u001b[0mself\u001b[0m\u001b[0;34m.\u001b[0m\u001b[0m_compiled_call_impl\u001b[0m\u001b[0;34m(\u001b[0m\u001b[0;34m*\u001b[0m\u001b[0margs\u001b[0m\u001b[0;34m,\u001b[0m \u001b[0;34m**\u001b[0m\u001b[0mkwargs\u001b[0m\u001b[0;34m)\u001b[0m  \u001b[0;31m# type: ignore[misc]\u001b[0m\u001b[0;34m\u001b[0m\u001b[0;34m\u001b[0m\u001b[0m\n\u001b[1;32m   1517\u001b[0m         \u001b[0;32melse\u001b[0m\u001b[0;34m:\u001b[0m\u001b[0;34m\u001b[0m\u001b[0;34m\u001b[0m\u001b[0m\n\u001b[0;32m-> 1518\u001b[0;31m             \u001b[0;32mreturn\u001b[0m \u001b[0mself\u001b[0m\u001b[0;34m.\u001b[0m\u001b[0m_call_impl\u001b[0m\u001b[0;34m(\u001b[0m\u001b[0;34m*\u001b[0m\u001b[0margs\u001b[0m\u001b[0;34m,\u001b[0m \u001b[0;34m**\u001b[0m\u001b[0mkwargs\u001b[0m\u001b[0;34m)\u001b[0m\u001b[0;34m\u001b[0m\u001b[0;34m\u001b[0m\u001b[0m\n\u001b[0m\u001b[1;32m   1519\u001b[0m \u001b[0;34m\u001b[0m\u001b[0m\n\u001b[1;32m   1520\u001b[0m     \u001b[0;32mdef\u001b[0m \u001b[0m_call_impl\u001b[0m\u001b[0;34m(\u001b[0m\u001b[0mself\u001b[0m\u001b[0;34m,\u001b[0m \u001b[0;34m*\u001b[0m\u001b[0margs\u001b[0m\u001b[0;34m,\u001b[0m \u001b[0;34m**\u001b[0m\u001b[0mkwargs\u001b[0m\u001b[0;34m)\u001b[0m\u001b[0;34m:\u001b[0m\u001b[0;34m\u001b[0m\u001b[0;34m\u001b[0m\u001b[0m\n",
            "\u001b[0;32m/usr/local/lib/python3.10/dist-packages/torch/nn/modules/module.py\u001b[0m in \u001b[0;36m_call_impl\u001b[0;34m(self, *args, **kwargs)\u001b[0m\n\u001b[1;32m   1525\u001b[0m                 \u001b[0;32mor\u001b[0m \u001b[0m_global_backward_pre_hooks\u001b[0m \u001b[0;32mor\u001b[0m \u001b[0m_global_backward_hooks\u001b[0m\u001b[0;34m\u001b[0m\u001b[0;34m\u001b[0m\u001b[0m\n\u001b[1;32m   1526\u001b[0m                 or _global_forward_hooks or _global_forward_pre_hooks):\n\u001b[0;32m-> 1527\u001b[0;31m             \u001b[0;32mreturn\u001b[0m \u001b[0mforward_call\u001b[0m\u001b[0;34m(\u001b[0m\u001b[0;34m*\u001b[0m\u001b[0margs\u001b[0m\u001b[0;34m,\u001b[0m \u001b[0;34m**\u001b[0m\u001b[0mkwargs\u001b[0m\u001b[0;34m)\u001b[0m\u001b[0;34m\u001b[0m\u001b[0;34m\u001b[0m\u001b[0m\n\u001b[0m\u001b[1;32m   1528\u001b[0m \u001b[0;34m\u001b[0m\u001b[0m\n\u001b[1;32m   1529\u001b[0m         \u001b[0;32mtry\u001b[0m\u001b[0;34m:\u001b[0m\u001b[0;34m\u001b[0m\u001b[0;34m\u001b[0m\u001b[0m\n",
            "\u001b[0;32m/usr/local/lib/python3.10/dist-packages/torch/nn/modules/loss.py\u001b[0m in \u001b[0;36mforward\u001b[0;34m(self, input, target)\u001b[0m\n\u001b[1;32m    533\u001b[0m \u001b[0;34m\u001b[0m\u001b[0m\n\u001b[1;32m    534\u001b[0m     \u001b[0;32mdef\u001b[0m \u001b[0mforward\u001b[0m\u001b[0;34m(\u001b[0m\u001b[0mself\u001b[0m\u001b[0;34m,\u001b[0m \u001b[0minput\u001b[0m\u001b[0;34m:\u001b[0m \u001b[0mTensor\u001b[0m\u001b[0;34m,\u001b[0m \u001b[0mtarget\u001b[0m\u001b[0;34m:\u001b[0m \u001b[0mTensor\u001b[0m\u001b[0;34m)\u001b[0m \u001b[0;34m->\u001b[0m \u001b[0mTensor\u001b[0m\u001b[0;34m:\u001b[0m\u001b[0;34m\u001b[0m\u001b[0;34m\u001b[0m\u001b[0m\n\u001b[0;32m--> 535\u001b[0;31m         \u001b[0;32mreturn\u001b[0m \u001b[0mF\u001b[0m\u001b[0;34m.\u001b[0m\u001b[0mmse_loss\u001b[0m\u001b[0;34m(\u001b[0m\u001b[0minput\u001b[0m\u001b[0;34m,\u001b[0m \u001b[0mtarget\u001b[0m\u001b[0;34m,\u001b[0m \u001b[0mreduction\u001b[0m\u001b[0;34m=\u001b[0m\u001b[0mself\u001b[0m\u001b[0;34m.\u001b[0m\u001b[0mreduction\u001b[0m\u001b[0;34m)\u001b[0m\u001b[0;34m\u001b[0m\u001b[0;34m\u001b[0m\u001b[0m\n\u001b[0m\u001b[1;32m    536\u001b[0m \u001b[0;34m\u001b[0m\u001b[0m\n\u001b[1;32m    537\u001b[0m \u001b[0;34m\u001b[0m\u001b[0m\n",
            "\u001b[0;32m/usr/local/lib/python3.10/dist-packages/torch/nn/functional.py\u001b[0m in \u001b[0;36mmse_loss\u001b[0;34m(input, target, size_average, reduce, reduction)\u001b[0m\n\u001b[1;32m   3326\u001b[0m         \u001b[0mreduction\u001b[0m \u001b[0;34m=\u001b[0m \u001b[0m_Reduction\u001b[0m\u001b[0;34m.\u001b[0m\u001b[0mlegacy_get_string\u001b[0m\u001b[0;34m(\u001b[0m\u001b[0msize_average\u001b[0m\u001b[0;34m,\u001b[0m \u001b[0mreduce\u001b[0m\u001b[0;34m)\u001b[0m\u001b[0;34m\u001b[0m\u001b[0;34m\u001b[0m\u001b[0m\n\u001b[1;32m   3327\u001b[0m \u001b[0;34m\u001b[0m\u001b[0m\n\u001b[0;32m-> 3328\u001b[0;31m     \u001b[0mexpanded_input\u001b[0m\u001b[0;34m,\u001b[0m \u001b[0mexpanded_target\u001b[0m \u001b[0;34m=\u001b[0m \u001b[0mtorch\u001b[0m\u001b[0;34m.\u001b[0m\u001b[0mbroadcast_tensors\u001b[0m\u001b[0;34m(\u001b[0m\u001b[0minput\u001b[0m\u001b[0;34m,\u001b[0m \u001b[0mtarget\u001b[0m\u001b[0;34m)\u001b[0m\u001b[0;34m\u001b[0m\u001b[0;34m\u001b[0m\u001b[0m\n\u001b[0m\u001b[1;32m   3329\u001b[0m     \u001b[0;32mreturn\u001b[0m \u001b[0mtorch\u001b[0m\u001b[0;34m.\u001b[0m\u001b[0m_C\u001b[0m\u001b[0;34m.\u001b[0m\u001b[0m_nn\u001b[0m\u001b[0;34m.\u001b[0m\u001b[0mmse_loss\u001b[0m\u001b[0;34m(\u001b[0m\u001b[0mexpanded_input\u001b[0m\u001b[0;34m,\u001b[0m \u001b[0mexpanded_target\u001b[0m\u001b[0;34m,\u001b[0m \u001b[0m_Reduction\u001b[0m\u001b[0;34m.\u001b[0m\u001b[0mget_enum\u001b[0m\u001b[0;34m(\u001b[0m\u001b[0mreduction\u001b[0m\u001b[0;34m)\u001b[0m\u001b[0;34m)\u001b[0m\u001b[0;34m\u001b[0m\u001b[0;34m\u001b[0m\u001b[0m\n\u001b[1;32m   3330\u001b[0m \u001b[0;34m\u001b[0m\u001b[0m\n",
            "\u001b[0;32m/usr/local/lib/python3.10/dist-packages/torch/functional.py\u001b[0m in \u001b[0;36mbroadcast_tensors\u001b[0;34m(*tensors)\u001b[0m\n\u001b[1;32m     71\u001b[0m     \u001b[0;32mif\u001b[0m \u001b[0mhas_torch_function\u001b[0m\u001b[0;34m(\u001b[0m\u001b[0mtensors\u001b[0m\u001b[0;34m)\u001b[0m\u001b[0;34m:\u001b[0m\u001b[0;34m\u001b[0m\u001b[0;34m\u001b[0m\u001b[0m\n\u001b[1;32m     72\u001b[0m         \u001b[0;32mreturn\u001b[0m \u001b[0mhandle_torch_function\u001b[0m\u001b[0;34m(\u001b[0m\u001b[0mbroadcast_tensors\u001b[0m\u001b[0;34m,\u001b[0m \u001b[0mtensors\u001b[0m\u001b[0;34m,\u001b[0m \u001b[0;34m*\u001b[0m\u001b[0mtensors\u001b[0m\u001b[0;34m)\u001b[0m\u001b[0;34m\u001b[0m\u001b[0;34m\u001b[0m\u001b[0m\n\u001b[0;32m---> 73\u001b[0;31m     \u001b[0;32mreturn\u001b[0m \u001b[0m_VF\u001b[0m\u001b[0;34m.\u001b[0m\u001b[0mbroadcast_tensors\u001b[0m\u001b[0;34m(\u001b[0m\u001b[0mtensors\u001b[0m\u001b[0;34m)\u001b[0m  \u001b[0;31m# type: ignore[attr-defined]\u001b[0m\u001b[0;34m\u001b[0m\u001b[0;34m\u001b[0m\u001b[0m\n\u001b[0m\u001b[1;32m     74\u001b[0m \u001b[0;34m\u001b[0m\u001b[0m\n\u001b[1;32m     75\u001b[0m \u001b[0;34m\u001b[0m\u001b[0m\n",
            "\u001b[0;31mRuntimeError\u001b[0m: The size of tensor a (2) must match the size of tensor b (256) at non-singleton dimension 1"
          ]
        }
      ]
    },
    {
      "cell_type": "markdown",
      "source": [
        "I can run it on VScode"
      ],
      "metadata": {
        "id": "9XYuiwQ5Ct1t"
      }
    },
    {
      "cell_type": "code",
      "source": [
        "test_acc = None\n",
        "# TODO: report results on validation / test dataset\n",
        "test_features = torch.randn((100, num_features))  # Replace with your test features\n",
        "test_targets = torch.randint(0, num_classes, (100,))  # Replace with your test targets\n",
        "\n",
        "with torch.no_grad():\n",
        "    test_predictions = torch.matmul(test_features, W_star)\n",
        "    _, predicted_labels = torch.max(test_predictions, 1)\n",
        "    test_acc = (predicted_labels == test_targets).float().mean()\n",
        "\n",
        "# End of your code\n",
        "print(\"SGD Test acc: \", test_acc)"
      ],
      "metadata": {
        "id": "KQ1bfgkwu8ur",
        "colab": {
          "base_uri": "https://localhost:8080/",
          "height": 247
        },
        "outputId": "c6226b89-aee4-4a70-8824-0952936a01db"
      },
      "execution_count": 89,
      "outputs": [
        {
          "output_type": "error",
          "ename": "NameError",
          "evalue": "ignored",
          "traceback": [
            "\u001b[0;31m---------------------------------------------------------------------------\u001b[0m",
            "\u001b[0;31mNameError\u001b[0m                                 Traceback (most recent call last)",
            "\u001b[0;32m<ipython-input-89-1cfd3c0a1231>\u001b[0m in \u001b[0;36m<cell line: 6>\u001b[0;34m()\u001b[0m\n\u001b[1;32m      5\u001b[0m \u001b[0;34m\u001b[0m\u001b[0m\n\u001b[1;32m      6\u001b[0m \u001b[0;32mwith\u001b[0m \u001b[0mtorch\u001b[0m\u001b[0;34m.\u001b[0m\u001b[0mno_grad\u001b[0m\u001b[0;34m(\u001b[0m\u001b[0;34m)\u001b[0m\u001b[0;34m:\u001b[0m\u001b[0;34m\u001b[0m\u001b[0;34m\u001b[0m\u001b[0m\n\u001b[0;32m----> 7\u001b[0;31m     \u001b[0mtest_predictions\u001b[0m \u001b[0;34m=\u001b[0m \u001b[0mtorch\u001b[0m\u001b[0;34m.\u001b[0m\u001b[0mmatmul\u001b[0m\u001b[0;34m(\u001b[0m\u001b[0mtest_features\u001b[0m\u001b[0;34m,\u001b[0m \u001b[0mW_star\u001b[0m\u001b[0;34m)\u001b[0m\u001b[0;34m\u001b[0m\u001b[0;34m\u001b[0m\u001b[0m\n\u001b[0m\u001b[1;32m      8\u001b[0m     \u001b[0m_\u001b[0m\u001b[0;34m,\u001b[0m \u001b[0mpredicted_labels\u001b[0m \u001b[0;34m=\u001b[0m \u001b[0mtorch\u001b[0m\u001b[0;34m.\u001b[0m\u001b[0mmax\u001b[0m\u001b[0;34m(\u001b[0m\u001b[0mtest_predictions\u001b[0m\u001b[0;34m,\u001b[0m \u001b[0;36m1\u001b[0m\u001b[0;34m)\u001b[0m\u001b[0;34m\u001b[0m\u001b[0;34m\u001b[0m\u001b[0m\n\u001b[1;32m      9\u001b[0m     \u001b[0mtest_acc\u001b[0m \u001b[0;34m=\u001b[0m \u001b[0;34m(\u001b[0m\u001b[0mpredicted_labels\u001b[0m \u001b[0;34m==\u001b[0m \u001b[0mtest_targets\u001b[0m\u001b[0;34m)\u001b[0m\u001b[0;34m.\u001b[0m\u001b[0mfloat\u001b[0m\u001b[0;34m(\u001b[0m\u001b[0;34m)\u001b[0m\u001b[0;34m.\u001b[0m\u001b[0mmean\u001b[0m\u001b[0;34m(\u001b[0m\u001b[0;34m)\u001b[0m\u001b[0;34m\u001b[0m\u001b[0;34m\u001b[0m\u001b[0m\n",
            "\u001b[0;31mNameError\u001b[0m: name 'W_star' is not defined"
          ]
        }
      ]
    },
    {
      "cell_type": "markdown",
      "source": [
        "![1700354248774.png](data:image/png;base64,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)"
      ],
      "metadata": {
        "id": "j7HdNOrjAwOX"
      }
    },
    {
      "cell_type": "markdown",
      "source": [
        "In the above problem, you manually update the parameters after calcuting the gradients. In fact, Pytorch implements various optimization algorithms such as SGD in [torch.optim](https://pytorch.org/docs/stable/optim.html), which you can use to conveniently update your parameters. To do that, you simply need to create an optimizer (e.g., `torch.optim.SGD`) by specifying the parameters that need to be updated and associated optimization hyperparameters such as learning rate. In the training loop, you will need to modify your code to include the following two steps:\n",
        "- Use `optimizer.zero_grad()` to clear gradients of parameters.\n",
        "- Use `optimizer.step()` to automatically update parameters.\n",
        "\n",
        "You can refer to [this tutorial](https://pytorch.org/tutorials/beginner/basics/optimization_tutorial.html) for more details and examples.\n",
        "\n",
        "**Problem 2:** Complete the function `train_sgd_optimizer()` that re-train your classification model but use `torch.optim` to update parameters."
      ],
      "metadata": {
        "id": "VMmfgXgY1E4j"
      }
    },
    {
      "cell_type": "code",
      "source": [
        "import torch\n",
        "import torch.nn as nn\n",
        "import torch.optim as optim\n",
        "import math\n",
        "import matplotlib.pyplot as plt\n",
        "\n",
        "def random_shuffle(features, targets):\n",
        "    idx = torch.randperm(features.shape[0], device=features.device)\n",
        "    shuffled_features = features[idx]\n",
        "    shuffled_targets = targets[idx]\n",
        "\n",
        "    return (shuffled_features, shuffled_targets)\n",
        "\n",
        "def visualize_loss_acc(losses, accs):\n",
        "    plt.figure(figsize=(8, 12))\n",
        "    plt.subplot(2, 1, 1)\n",
        "\n",
        "    plt.plot(range(len(losses)), losses)\n",
        "    plt.xlabel('Iter #')\n",
        "    plt.ylabel('Loss')\n",
        "    plt.title('Training loss vs iteration number')\n",
        "\n",
        "    plt.subplot(2, 1, 2)\n",
        "    plt.plot(range(len(accs)), accs)\n",
        "    plt.xlabel('Iter #')\n",
        "    plt.ylabel('Acc')\n",
        "    plt.title('Training accuracy vs iteration number')\n",
        "\n",
        "    plt.show()\n",
        "\n",
        "def train_sgd_optimizer(num_epochs, batch_size, lr, W, train_features, train_targets):\n",
        "    losses = []\n",
        "    accs = []\n",
        "\n",
        "    # Define the loss function (CrossEntropy for classification)\n",
        "    loss_fn = nn.CrossEntropyLoss()\n",
        "\n",
        "    # Define the optimizer (SGD)\n",
        "    optimizer = optim.SGD([W], lr=lr)"
      ],
      "metadata": {
        "id": "oOxWhPan4_CW"
      },
      "execution_count": null,
      "outputs": []
    },
    {
      "cell_type": "code",
      "source": [
        "def train_sgd_optimizer(num_epochs, batch_size, lr, W, train_features, train_targets):\n",
        "    '''\n",
        "    This function trains the model w using stochastic gradient desent on the dataset (train_features, train_targets).\n",
        "    Returns:\n",
        "    w_star: the optimized model parameter w.\n",
        "    '''\n",
        "\n",
        "    losses = []\n",
        "    accs = []\n",
        "\n",
        "    ## TODO: define loss function and optimizer\n",
        "    loss_fn = nn.CrossEntropyLoss()\n",
        "\n",
        "    optimizer = optim.SGD([W], lr=lr)\n",
        "    ## End of your code\n",
        "\n",
        "    # Train loop\n",
        "    for i in range(num_epochs):\n",
        "        ## TODO: shuffle training data\n",
        "        train_features, train_targets = random_shuffle(train_features, train_targets)\n",
        "        ## End of your code\n",
        "\n",
        "        epoch_step = math.ceil(train_features.shape[0] / batch_size)\n",
        "        for j in range(epoch_step):\n",
        "            ## TODO: get features and labels for the batch\n",
        "            start_idx = j * batch_size\n",
        "            end_idx = min((j + 1) * batch_size, train_features.shape[0])\n",
        "            batch_features = train_features[start_idx:end_idx]\n",
        "            batch_labels = train_targets[start_idx:end_idx]\n",
        "            ## TODO: calculate loss and gradient\n",
        "            # Forward pass\n",
        "            predictions = torch.matmul(batch_features, W)\n",
        "            ## TODO: update parameters\n",
        "            loss = loss_fn(predictions, batch_labels)\n",
        "            optimizer.zero_grad()\n",
        "            loss.backward()\n",
        "            optimizer.step()\n",
        "            ## Note: remember to clear .grad before every iteration\n",
        "            pass\n",
        "            ## End of your code\n",
        "\n",
        "        loss, acc = None, None\n",
        "        ## TODO: calculate loss, predictions, and accuracy\n",
        "        correct_predictions = torch.argmax(predictions, dim=1)\n",
        "        accuracy = (correct_predictions == batch_labels).float().mean()\n",
        "        ## End of your code\n",
        "\n",
        "        losses.append(loss.item())\n",
        "        accs.append(acc.item())\n",
        "\n",
        "    W_star = W\n",
        "\n",
        "    print(\"Training done\")\n",
        "    visualize_loss_acc(losses, accs)\n",
        "    return W_star"
      ],
      "metadata": {
        "id": "g0QQyTyKvSEb"
      },
      "execution_count": null,
      "outputs": []
    },
    {
      "cell_type": "code",
      "source": [
        "# STOCHASTIC GRADIENT DESCENT HYPER-PARAMETERS\n",
        "num_epochs = 10\n",
        "batch_size = 256\n",
        "lr = 0.2\n",
        "\n",
        "########################################\n",
        "## TODO: initialize model weight      ##\n",
        "########################################\n",
        "num_features = 1\n",
        "num_classes = 2\n",
        "W = torch.rand((num_features, num_classes), requires_grad=True)\n",
        "\n",
        "# Generate some example data (you should replace this with your dataset)\n",
        "train_features = torch.randn((1000, num_features))\n",
        "train_targets = torch.randint(0, num_classes, (1000,))\n",
        "###########################################\n",
        "############ End of your code #############\n",
        "###########################################\n",
        "W_star = train_sgd_optimizer(num_epochs, batch_size, lr, W, train_features, train_labels)"
      ],
      "metadata": {
        "id": "WHwJRbtv5ZxB",
        "colab": {
          "base_uri": "https://localhost:8080/",
          "height": 368
        },
        "outputId": "048d41b2-833e-43f3-f320-a71c83941ec4"
      },
      "execution_count": null,
      "outputs": [
        {
          "output_type": "error",
          "ename": "AttributeError",
          "evalue": "ignored",
          "traceback": [
            "\u001b[0;31m---------------------------------------------------------------------------\u001b[0m",
            "\u001b[0;31mAttributeError\u001b[0m                            Traceback (most recent call last)",
            "\u001b[0;32m<ipython-input-79-43d5e2798e8b>\u001b[0m in \u001b[0;36m<cell line: 19>\u001b[0;34m()\u001b[0m\n\u001b[1;32m     17\u001b[0m \u001b[0;31m############ End of your code #############\u001b[0m\u001b[0;34m\u001b[0m\u001b[0;34m\u001b[0m\u001b[0m\n\u001b[1;32m     18\u001b[0m \u001b[0;31m###########################################\u001b[0m\u001b[0;34m\u001b[0m\u001b[0;34m\u001b[0m\u001b[0m\n\u001b[0;32m---> 19\u001b[0;31m \u001b[0mW_star\u001b[0m \u001b[0;34m=\u001b[0m \u001b[0mtrain_sgd_optimizer\u001b[0m\u001b[0;34m(\u001b[0m\u001b[0mnum_epochs\u001b[0m\u001b[0;34m,\u001b[0m \u001b[0mbatch_size\u001b[0m\u001b[0;34m,\u001b[0m \u001b[0mlr\u001b[0m\u001b[0;34m,\u001b[0m \u001b[0mW\u001b[0m\u001b[0;34m,\u001b[0m \u001b[0mtrain_features\u001b[0m\u001b[0;34m,\u001b[0m \u001b[0mtrain_labels\u001b[0m\u001b[0;34m)\u001b[0m\u001b[0;34m\u001b[0m\u001b[0;34m\u001b[0m\u001b[0m\n\u001b[0m",
            "\u001b[0;32m<ipython-input-75-b33531ee96c1>\u001b[0m in \u001b[0;36mtrain_sgd_optimizer\u001b[0;34m(num_epochs, batch_size, lr, W, train_features, train_targets)\u001b[0m\n\u001b[1;32m     46\u001b[0m         \u001b[0;31m## End of your code\u001b[0m\u001b[0;34m\u001b[0m\u001b[0;34m\u001b[0m\u001b[0m\n\u001b[1;32m     47\u001b[0m \u001b[0;34m\u001b[0m\u001b[0m\n\u001b[0;32m---> 48\u001b[0;31m         \u001b[0mlosses\u001b[0m\u001b[0;34m.\u001b[0m\u001b[0mappend\u001b[0m\u001b[0;34m(\u001b[0m\u001b[0mloss\u001b[0m\u001b[0;34m.\u001b[0m\u001b[0mitem\u001b[0m\u001b[0;34m(\u001b[0m\u001b[0;34m)\u001b[0m\u001b[0;34m)\u001b[0m\u001b[0;34m\u001b[0m\u001b[0;34m\u001b[0m\u001b[0m\n\u001b[0m\u001b[1;32m     49\u001b[0m         \u001b[0maccs\u001b[0m\u001b[0;34m.\u001b[0m\u001b[0mappend\u001b[0m\u001b[0;34m(\u001b[0m\u001b[0macc\u001b[0m\u001b[0;34m.\u001b[0m\u001b[0mitem\u001b[0m\u001b[0;34m(\u001b[0m\u001b[0;34m)\u001b[0m\u001b[0;34m)\u001b[0m\u001b[0;34m\u001b[0m\u001b[0;34m\u001b[0m\u001b[0m\n\u001b[1;32m     50\u001b[0m     \u001b[0mprint\u001b[0m\u001b[0;34m(\u001b[0m\u001b[0;34m\"Training done\"\u001b[0m\u001b[0;34m)\u001b[0m\u001b[0;34m\u001b[0m\u001b[0;34m\u001b[0m\u001b[0m\n",
            "\u001b[0;31mAttributeError\u001b[0m: 'NoneType' object has no attribute 'item'"
          ]
        }
      ]
    },
    {
      "cell_type": "code",
      "source": [
        "test_acc = None\n",
        "# TODO: report results on validation / test dataset\n",
        "# Evaluate the trained model on a test dataset and report test accuracy\n",
        "test_features = torch.randn((100, num_features))\n",
        "test_targets = torch.randint(0, num_classes, (100,))\n",
        "\n",
        "with torch.no_grad():\n",
        "    test_predictions = torch.matmul(test_features, W_star)\n",
        "    _, predicted_labels = torch.max(test_predictions, 1)\n",
        "    test_acc = (predicted_labels == test_targets).float().mean()\n",
        "# End of your code\n",
        "print(\"SGD Test acc: \", test_acc)"
      ],
      "metadata": {
        "id": "gxA1ZTG15hju",
        "colab": {
          "base_uri": "https://localhost:8080/",
          "height": 247
        },
        "outputId": "72e98e8b-f253-42c8-8ac7-74a657933a48"
      },
      "execution_count": null,
      "outputs": [
        {
          "output_type": "error",
          "ename": "NameError",
          "evalue": "ignored",
          "traceback": [
            "\u001b[0;31m---------------------------------------------------------------------------\u001b[0m",
            "\u001b[0;31mNameError\u001b[0m                                 Traceback (most recent call last)",
            "\u001b[0;32m<ipython-input-80-7ec4c63f6046>\u001b[0m in \u001b[0;36m<cell line: 7>\u001b[0;34m()\u001b[0m\n\u001b[1;32m      6\u001b[0m \u001b[0;34m\u001b[0m\u001b[0m\n\u001b[1;32m      7\u001b[0m \u001b[0;32mwith\u001b[0m \u001b[0mtorch\u001b[0m\u001b[0;34m.\u001b[0m\u001b[0mno_grad\u001b[0m\u001b[0;34m(\u001b[0m\u001b[0;34m)\u001b[0m\u001b[0;34m:\u001b[0m\u001b[0;34m\u001b[0m\u001b[0;34m\u001b[0m\u001b[0m\n\u001b[0;32m----> 8\u001b[0;31m     \u001b[0mtest_predictions\u001b[0m \u001b[0;34m=\u001b[0m \u001b[0mtorch\u001b[0m\u001b[0;34m.\u001b[0m\u001b[0mmatmul\u001b[0m\u001b[0;34m(\u001b[0m\u001b[0mtest_features\u001b[0m\u001b[0;34m,\u001b[0m \u001b[0mW_star\u001b[0m\u001b[0;34m)\u001b[0m\u001b[0;34m\u001b[0m\u001b[0;34m\u001b[0m\u001b[0m\n\u001b[0m\u001b[1;32m      9\u001b[0m     \u001b[0m_\u001b[0m\u001b[0;34m,\u001b[0m \u001b[0mpredicted_labels\u001b[0m \u001b[0;34m=\u001b[0m \u001b[0mtorch\u001b[0m\u001b[0;34m.\u001b[0m\u001b[0mmax\u001b[0m\u001b[0;34m(\u001b[0m\u001b[0mtest_predictions\u001b[0m\u001b[0;34m,\u001b[0m \u001b[0;36m1\u001b[0m\u001b[0;34m)\u001b[0m\u001b[0;34m\u001b[0m\u001b[0;34m\u001b[0m\u001b[0m\n\u001b[1;32m     10\u001b[0m     \u001b[0mtest_acc\u001b[0m \u001b[0;34m=\u001b[0m \u001b[0;34m(\u001b[0m\u001b[0mpredicted_labels\u001b[0m \u001b[0;34m==\u001b[0m \u001b[0mtest_targets\u001b[0m\u001b[0;34m)\u001b[0m\u001b[0;34m.\u001b[0m\u001b[0mfloat\u001b[0m\u001b[0;34m(\u001b[0m\u001b[0;34m)\u001b[0m\u001b[0;34m.\u001b[0m\u001b[0mmean\u001b[0m\u001b[0;34m(\u001b[0m\u001b[0;34m)\u001b[0m\u001b[0;34m\u001b[0m\u001b[0;34m\u001b[0m\u001b[0m\n",
            "\u001b[0;31mNameError\u001b[0m: name 'W_star' is not defined"
          ]
        }
      ]
    },
    {
      "cell_type": "markdown",
      "source": [
        "![1700353426270.png](data:image/png;base64,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)"
      ],
      "metadata": {
        "id": "ibi4ttJ39X1e"
      }
    },
    {
      "cell_type": "markdown",
      "source": [
        "In previous problems, we manually track all parameters of our model. This is fine for small networks with a few tensors, but it would be extremely inconvenient and error-prone to track tens or hundreds of tensors in larger networks.\n",
        "\n",
        "PyTorch provides the `nn.Module` API for you to define arbitrary network architectures, while tracking every learnable parameters for you.\n",
        "\n",
        "To use the Module API, follow the steps below:\n",
        "\n",
        "1. Subclass `nn.Module`. Give your network class an intuitive name like `TwoLayerMLP`.\n",
        "\n",
        "2. In the constructor `__init__()`, define all the layers you need as class attributes. Layer objects like `nn.Linear` are themselves `nn.Module` subclasses, so that you don't have to instantiate the raw tensors yourself. `nn.Module` will track these internal parameters for you. Refer to the [doc](http://pytorch.org/docs/master/nn.html) to learn more about the dozens of builtin layers. **Warning**: don't forget to call the `super().__init__()` first!\n",
        "\n",
        "3. In the `forward()` method, define how data will pass through your network. You should use the attributes defined in `__init__` as function calls that take tensor as input and output the \"transformed\" tensor. Do *not* create any new layers with learnable parameters in `forward()`! All of them must be declared upfront in `__init__`.\n",
        "\n",
        "[Here is a detailed example](https://pytorch.org/tutorials/beginner/basics/buildmodel_tutorial.html) of how to build a neural network using `nn.Module`."
      ],
      "metadata": {
        "id": "jNXeaaKd-Q7g"
      }
    },
    {
      "cell_type": "markdown",
      "source": [
        "**Problem 3:** Now you need to extend the previous single-layer model to a two-layer fully-connected neural network (only one hidden layer). Complete the implementation for class `TwoLayerMLP` and function `train_mlp` to build and train your model."
      ],
      "metadata": {
        "id": "_tLbK8ZhNP59"
      }
    },
    {
      "cell_type": "code",
      "source": [
        "import torch\n",
        "import torch.nn as nn\n",
        "import torch.optim as optim\n",
        "import math\n",
        "import matplotlib.pyplot as plt\n",
        "\n",
        "# Function to shuffle data\n",
        "def random_shuffle(features, targets):\n",
        "    idx = torch.randperm(features.shape[0], device=features.device)\n",
        "    shuffled_features = features[idx]\n",
        "    shuffled_targets = targets[idx]\n",
        "\n",
        "    return (shuffled_features, shuffled_targets)\n",
        "\n",
        "# Function to visualize loss and accuracy\n",
        "def visualize_loss_acc(losses, accs):\n",
        "    plt.figure(figsize=(8, 12))\n",
        "    plt.subplot(2, 1, 1)\n",
        "\n",
        "    plt.plot(range(len(losses)), losses)\n",
        "    plt.xlabel('Iter #')\n",
        "    plt.ylabel('Loss')\n",
        "    plt.title('Training loss vs iteration number')\n",
        "\n",
        "    plt.subplot(2, 1, 2)\n",
        "    plt.plot(range(len(accs)), accs)\n",
        "    plt.xlabel('Iter #')\n",
        "    plt.ylabel('Acc')\n",
        "    plt.title('Training accuracy vs iteration number')\n",
        "\n",
        "    plt.show()"
      ],
      "metadata": {
        "id": "qXySIYBVDE2m"
      },
      "execution_count": 90,
      "outputs": []
    },
    {
      "cell_type": "code",
      "source": [
        "class TwoLayerMLP(nn.Module):\n",
        "    def __init__(self, input_dim: int, hidden_dim: int, output_dim: int):\n",
        "        '''\n",
        "        Create a two-layer fully-connected network\n",
        "        Inputs:\n",
        "        input_dim: dimension of input features\n",
        "        hidden_dim: dimension of hidden layer\n",
        "        output_dim: dimension of output\n",
        "        '''\n",
        "        super().__init__()\n",
        "        ## TODO: define layers in the model\n",
        "        ## Model architecture: input --> hidden layer --> output\n",
        "        self.fc1 = nn.Linear(input_dim, hidden_dim)\n",
        "        self.relu = nn.ReLU()\n",
        "        self.fc2 = nn.Linear(hidden_dim, output_dim)\n",
        "        ## End of your code\n",
        "\n",
        "    def forward(self, x):\n",
        "        logits = None\n",
        "        ## TODO: forward pass\n",
        "        x = self.fc1(x)\n",
        "        x = self.relu(x)\n",
        "        x = self.fc2(x)\n",
        "        ## End of your code\n",
        "        return logits"
      ],
      "metadata": {
        "id": "9G-f5O-sMz3r"
      },
      "execution_count": 91,
      "outputs": []
    },
    {
      "cell_type": "code",
      "source": [
        "def train_mlp(num_epochs, batch_size, lr, model, train_features, train_targets):\n",
        "    '''\n",
        "    This function trains the model w using stochastic gradient desent on the dataset (train_features, train_targets).\n",
        "    Returns:\n",
        "    model: the optimized model.\n",
        "    '''\n",
        "\n",
        "    losses = []\n",
        "    accs = []\n",
        "\n",
        "    ## TODO: define loss function and optimizer\n",
        "    loss_fn = nn.CrossEntropyLoss()\n",
        "\n",
        "    optimizer = optim.SGD(model.parameters(), lr=lr)\n",
        "    ## End of your code\n",
        "\n",
        "    # Train loop\n",
        "    for i in range(num_epochs):\n",
        "        ## TODO: shuffle training data\n",
        "        train_features, train_targets = random_shuffle(train_features, train_targets)\n",
        "        ## End of your code\n",
        "\n",
        "        epoch_step = math.ceil(train_features.shape[0] / batch_size)\n",
        "        for j in range(epoch_step):\n",
        "            ## TODO: get features and labels for the batch\n",
        "            start_idx = j * batch_size\n",
        "            end_idx = min((j + 1) * batch_size, train_features.shape[0])\n",
        "            batch_features = train_features[start_idx:end_idx]\n",
        "            batch_labels = train_targets[start_idx:end_idx]\n",
        "            # Forward pass\n",
        "            predictions = model(batch_features)\n",
        "            ## TODO: calculate loss and gradient\n",
        "            loss = loss_fn(predictions, batch_labels)\n",
        "            optimizer.zero_grad()\n",
        "            # Backpropagation to compute gradients\n",
        "            loss.backward()\n",
        "            ## TODO: update parameters\n",
        "            optimizer.step()\n",
        "            ## Note: remember to clear .grad before every iteration\n",
        "            pass\n",
        "            ## End of your code\n",
        "\n",
        "        ## TODO: calculate loss, predictions, and accuracy\n",
        "        _, predicted_labels = torch.max(predictions, 1)\n",
        "        acc = (predicted_labels == batch_labels).float().mean()\n",
        "        ## End of your code\n",
        "\n",
        "        losses.append(loss.item())\n",
        "        accs.append(acc.item())\n",
        "\n",
        "    print(\"Training done\")\n",
        "    visualize_loss_acc(losses, accs)\n",
        "    return model"
      ],
      "metadata": {
        "id": "NkuJvkuHO0Ua"
      },
      "execution_count": 92,
      "outputs": []
    },
    {
      "cell_type": "code",
      "source": [
        "# STOCHASTIC GRADIENT DESCENT HYPER-PARAMETERS\n",
        "num_epochs = 10\n",
        "batch_size = 256\n",
        "lr = 0.2\n",
        "hidden_dim = 128 # use this as hidden layer dimension\n",
        "\n",
        "model = None\n",
        "#################################\n",
        "## TODO: initialize model      ##\n",
        "#################################\n",
        "input_dim = 1\n",
        "output_dim = 2\n",
        "model = TwoLayerMLP(input_dim, hidden_dim, output_dim)\n",
        "# Generate some example data (you should replace this with your dataset)\n",
        "train_features = torch.randn((1000, input_dim))\n",
        "train_targets = torch.randint(0, output_dim, (1000,))\n",
        "##################################\n",
        "######### End of your code #######\n",
        "##################################\n",
        "model = train_mlp(num_epochs, batch_size, lr, model, train_features, train_labels)"
      ],
      "metadata": {
        "id": "CXuq8qN2UMin",
        "colab": {
          "base_uri": "https://localhost:8080/",
          "height": 358
        },
        "outputId": "ddf6fffc-3be8-4d25-e13c-ef1f2e43f3b5"
      },
      "execution_count": 94,
      "outputs": [
        {
          "output_type": "error",
          "ename": "TypeError",
          "evalue": "ignored",
          "traceback": [
            "\u001b[0;31m---------------------------------------------------------------------------\u001b[0m",
            "\u001b[0;31mTypeError\u001b[0m                                 Traceback (most recent call last)",
            "\u001b[0;32m<ipython-input-94-ac9b5fccb974>\u001b[0m in \u001b[0;36m<cell line: 20>\u001b[0;34m()\u001b[0m\n\u001b[1;32m     18\u001b[0m \u001b[0;31m######### End of your code #######\u001b[0m\u001b[0;34m\u001b[0m\u001b[0;34m\u001b[0m\u001b[0m\n\u001b[1;32m     19\u001b[0m \u001b[0;31m##################################\u001b[0m\u001b[0;34m\u001b[0m\u001b[0;34m\u001b[0m\u001b[0m\n\u001b[0;32m---> 20\u001b[0;31m \u001b[0mmodel\u001b[0m \u001b[0;34m=\u001b[0m \u001b[0mtrain_mlp\u001b[0m\u001b[0;34m(\u001b[0m\u001b[0mnum_epochs\u001b[0m\u001b[0;34m,\u001b[0m \u001b[0mbatch_size\u001b[0m\u001b[0;34m,\u001b[0m \u001b[0mlr\u001b[0m\u001b[0;34m,\u001b[0m \u001b[0mmodel\u001b[0m\u001b[0;34m,\u001b[0m \u001b[0mtrain_features\u001b[0m\u001b[0;34m,\u001b[0m \u001b[0mtrain_labels\u001b[0m\u001b[0;34m)\u001b[0m\u001b[0;34m\u001b[0m\u001b[0;34m\u001b[0m\u001b[0m\n\u001b[0m",
            "\u001b[0;32m<ipython-input-92-7ec5930d9c81>\u001b[0m in \u001b[0;36mtrain_mlp\u001b[0;34m(num_epochs, batch_size, lr, model, train_features, train_targets)\u001b[0m\n\u001b[1;32m     31\u001b[0m             \u001b[0mpredictions\u001b[0m \u001b[0;34m=\u001b[0m \u001b[0mmodel\u001b[0m\u001b[0;34m(\u001b[0m\u001b[0mbatch_features\u001b[0m\u001b[0;34m)\u001b[0m\u001b[0;34m\u001b[0m\u001b[0;34m\u001b[0m\u001b[0m\n\u001b[1;32m     32\u001b[0m             \u001b[0;31m## TODO: calculate loss and gradient\u001b[0m\u001b[0;34m\u001b[0m\u001b[0;34m\u001b[0m\u001b[0m\n\u001b[0;32m---> 33\u001b[0;31m             \u001b[0mloss\u001b[0m \u001b[0;34m=\u001b[0m \u001b[0mloss_fn\u001b[0m\u001b[0;34m(\u001b[0m\u001b[0mpredictions\u001b[0m\u001b[0;34m,\u001b[0m \u001b[0mbatch_labels\u001b[0m\u001b[0;34m)\u001b[0m\u001b[0;34m\u001b[0m\u001b[0;34m\u001b[0m\u001b[0m\n\u001b[0m\u001b[1;32m     34\u001b[0m             \u001b[0moptimizer\u001b[0m\u001b[0;34m.\u001b[0m\u001b[0mzero_grad\u001b[0m\u001b[0;34m(\u001b[0m\u001b[0;34m)\u001b[0m\u001b[0;34m\u001b[0m\u001b[0;34m\u001b[0m\u001b[0m\n\u001b[1;32m     35\u001b[0m             \u001b[0;31m# Backpropagation to compute gradients\u001b[0m\u001b[0;34m\u001b[0m\u001b[0;34m\u001b[0m\u001b[0m\n",
            "\u001b[0;32m/usr/local/lib/python3.10/dist-packages/torch/nn/modules/module.py\u001b[0m in \u001b[0;36m_wrapped_call_impl\u001b[0;34m(self, *args, **kwargs)\u001b[0m\n\u001b[1;32m   1516\u001b[0m             \u001b[0;32mreturn\u001b[0m \u001b[0mself\u001b[0m\u001b[0;34m.\u001b[0m\u001b[0m_compiled_call_impl\u001b[0m\u001b[0;34m(\u001b[0m\u001b[0;34m*\u001b[0m\u001b[0margs\u001b[0m\u001b[0;34m,\u001b[0m \u001b[0;34m**\u001b[0m\u001b[0mkwargs\u001b[0m\u001b[0;34m)\u001b[0m  \u001b[0;31m# type: ignore[misc]\u001b[0m\u001b[0;34m\u001b[0m\u001b[0;34m\u001b[0m\u001b[0m\n\u001b[1;32m   1517\u001b[0m         \u001b[0;32melse\u001b[0m\u001b[0;34m:\u001b[0m\u001b[0;34m\u001b[0m\u001b[0;34m\u001b[0m\u001b[0m\n\u001b[0;32m-> 1518\u001b[0;31m             \u001b[0;32mreturn\u001b[0m \u001b[0mself\u001b[0m\u001b[0;34m.\u001b[0m\u001b[0m_call_impl\u001b[0m\u001b[0;34m(\u001b[0m\u001b[0;34m*\u001b[0m\u001b[0margs\u001b[0m\u001b[0;34m,\u001b[0m \u001b[0;34m**\u001b[0m\u001b[0mkwargs\u001b[0m\u001b[0;34m)\u001b[0m\u001b[0;34m\u001b[0m\u001b[0;34m\u001b[0m\u001b[0m\n\u001b[0m\u001b[1;32m   1519\u001b[0m \u001b[0;34m\u001b[0m\u001b[0m\n\u001b[1;32m   1520\u001b[0m     \u001b[0;32mdef\u001b[0m \u001b[0m_call_impl\u001b[0m\u001b[0;34m(\u001b[0m\u001b[0mself\u001b[0m\u001b[0;34m,\u001b[0m \u001b[0;34m*\u001b[0m\u001b[0margs\u001b[0m\u001b[0;34m,\u001b[0m \u001b[0;34m**\u001b[0m\u001b[0mkwargs\u001b[0m\u001b[0;34m)\u001b[0m\u001b[0;34m:\u001b[0m\u001b[0;34m\u001b[0m\u001b[0;34m\u001b[0m\u001b[0m\n",
            "\u001b[0;32m/usr/local/lib/python3.10/dist-packages/torch/nn/modules/module.py\u001b[0m in \u001b[0;36m_call_impl\u001b[0;34m(self, *args, **kwargs)\u001b[0m\n\u001b[1;32m   1525\u001b[0m                 \u001b[0;32mor\u001b[0m \u001b[0m_global_backward_pre_hooks\u001b[0m \u001b[0;32mor\u001b[0m \u001b[0m_global_backward_hooks\u001b[0m\u001b[0;34m\u001b[0m\u001b[0;34m\u001b[0m\u001b[0m\n\u001b[1;32m   1526\u001b[0m                 or _global_forward_hooks or _global_forward_pre_hooks):\n\u001b[0;32m-> 1527\u001b[0;31m             \u001b[0;32mreturn\u001b[0m \u001b[0mforward_call\u001b[0m\u001b[0;34m(\u001b[0m\u001b[0;34m*\u001b[0m\u001b[0margs\u001b[0m\u001b[0;34m,\u001b[0m \u001b[0;34m**\u001b[0m\u001b[0mkwargs\u001b[0m\u001b[0;34m)\u001b[0m\u001b[0;34m\u001b[0m\u001b[0;34m\u001b[0m\u001b[0m\n\u001b[0m\u001b[1;32m   1528\u001b[0m \u001b[0;34m\u001b[0m\u001b[0m\n\u001b[1;32m   1529\u001b[0m         \u001b[0;32mtry\u001b[0m\u001b[0;34m:\u001b[0m\u001b[0;34m\u001b[0m\u001b[0;34m\u001b[0m\u001b[0m\n",
            "\u001b[0;32m/usr/local/lib/python3.10/dist-packages/torch/nn/modules/loss.py\u001b[0m in \u001b[0;36mforward\u001b[0;34m(self, input, target)\u001b[0m\n\u001b[1;32m   1177\u001b[0m \u001b[0;34m\u001b[0m\u001b[0m\n\u001b[1;32m   1178\u001b[0m     \u001b[0;32mdef\u001b[0m \u001b[0mforward\u001b[0m\u001b[0;34m(\u001b[0m\u001b[0mself\u001b[0m\u001b[0;34m,\u001b[0m \u001b[0minput\u001b[0m\u001b[0;34m:\u001b[0m \u001b[0mTensor\u001b[0m\u001b[0;34m,\u001b[0m \u001b[0mtarget\u001b[0m\u001b[0;34m:\u001b[0m \u001b[0mTensor\u001b[0m\u001b[0;34m)\u001b[0m \u001b[0;34m->\u001b[0m \u001b[0mTensor\u001b[0m\u001b[0;34m:\u001b[0m\u001b[0;34m\u001b[0m\u001b[0;34m\u001b[0m\u001b[0m\n\u001b[0;32m-> 1179\u001b[0;31m         return F.cross_entropy(input, target, weight=self.weight,\n\u001b[0m\u001b[1;32m   1180\u001b[0m                                \u001b[0mignore_index\u001b[0m\u001b[0;34m=\u001b[0m\u001b[0mself\u001b[0m\u001b[0;34m.\u001b[0m\u001b[0mignore_index\u001b[0m\u001b[0;34m,\u001b[0m \u001b[0mreduction\u001b[0m\u001b[0;34m=\u001b[0m\u001b[0mself\u001b[0m\u001b[0;34m.\u001b[0m\u001b[0mreduction\u001b[0m\u001b[0;34m,\u001b[0m\u001b[0;34m\u001b[0m\u001b[0;34m\u001b[0m\u001b[0m\n\u001b[1;32m   1181\u001b[0m                                label_smoothing=self.label_smoothing)\n",
            "\u001b[0;32m/usr/local/lib/python3.10/dist-packages/torch/nn/functional.py\u001b[0m in \u001b[0;36mcross_entropy\u001b[0;34m(input, target, weight, size_average, ignore_index, reduce, reduction, label_smoothing)\u001b[0m\n\u001b[1;32m   3051\u001b[0m     \u001b[0;32mif\u001b[0m \u001b[0msize_average\u001b[0m \u001b[0;32mis\u001b[0m \u001b[0;32mnot\u001b[0m \u001b[0;32mNone\u001b[0m \u001b[0;32mor\u001b[0m \u001b[0mreduce\u001b[0m \u001b[0;32mis\u001b[0m \u001b[0;32mnot\u001b[0m \u001b[0;32mNone\u001b[0m\u001b[0;34m:\u001b[0m\u001b[0;34m\u001b[0m\u001b[0;34m\u001b[0m\u001b[0m\n\u001b[1;32m   3052\u001b[0m         \u001b[0mreduction\u001b[0m \u001b[0;34m=\u001b[0m \u001b[0m_Reduction\u001b[0m\u001b[0;34m.\u001b[0m\u001b[0mlegacy_get_string\u001b[0m\u001b[0;34m(\u001b[0m\u001b[0msize_average\u001b[0m\u001b[0;34m,\u001b[0m \u001b[0mreduce\u001b[0m\u001b[0;34m)\u001b[0m\u001b[0;34m\u001b[0m\u001b[0;34m\u001b[0m\u001b[0m\n\u001b[0;32m-> 3053\u001b[0;31m     \u001b[0;32mreturn\u001b[0m \u001b[0mtorch\u001b[0m\u001b[0;34m.\u001b[0m\u001b[0m_C\u001b[0m\u001b[0;34m.\u001b[0m\u001b[0m_nn\u001b[0m\u001b[0;34m.\u001b[0m\u001b[0mcross_entropy_loss\u001b[0m\u001b[0;34m(\u001b[0m\u001b[0minput\u001b[0m\u001b[0;34m,\u001b[0m \u001b[0mtarget\u001b[0m\u001b[0;34m,\u001b[0m \u001b[0mweight\u001b[0m\u001b[0;34m,\u001b[0m \u001b[0m_Reduction\u001b[0m\u001b[0;34m.\u001b[0m\u001b[0mget_enum\u001b[0m\u001b[0;34m(\u001b[0m\u001b[0mreduction\u001b[0m\u001b[0;34m)\u001b[0m\u001b[0;34m,\u001b[0m \u001b[0mignore_index\u001b[0m\u001b[0;34m,\u001b[0m \u001b[0mlabel_smoothing\u001b[0m\u001b[0;34m)\u001b[0m\u001b[0;34m\u001b[0m\u001b[0;34m\u001b[0m\u001b[0m\n\u001b[0m\u001b[1;32m   3054\u001b[0m \u001b[0;34m\u001b[0m\u001b[0m\n\u001b[1;32m   3055\u001b[0m \u001b[0;34m\u001b[0m\u001b[0m\n",
            "\u001b[0;31mTypeError\u001b[0m: cross_entropy_loss(): argument 'input' (position 1) must be Tensor, not NoneType"
          ]
        }
      ]
    },
    {
      "cell_type": "code",
      "source": [
        "test_acc = None\n",
        "# TODO: report results on validation / test dataset\n",
        "test_features = torch.randn((100, input_dim))\n",
        "test_targets = torch.randint(0, output_dim, (100,))\n",
        "with torch.no_grad():\n",
        "    test_predictions = model(test_features)\n",
        "    _, predicted_labels = torch.max(test_predictions, 1)\n",
        "    test_acc = (predicted_labels == test_targets).float().mean()\n",
        "# End of your code\n",
        "print(\"SGD Test acc: \", test_acc)"
      ],
      "metadata": {
        "id": "Sn-epTgqUb52",
        "colab": {
          "base_uri": "https://localhost:8080/",
          "height": 247
        },
        "outputId": "7cb3ce39-6add-44ec-e493-f46ec9b17aa9"
      },
      "execution_count": 93,
      "outputs": [
        {
          "output_type": "error",
          "ename": "NameError",
          "evalue": "ignored",
          "traceback": [
            "\u001b[0;31m---------------------------------------------------------------------------\u001b[0m",
            "\u001b[0;31mNameError\u001b[0m                                 Traceback (most recent call last)",
            "\u001b[0;32m<ipython-input-93-ac02b4759764>\u001b[0m in \u001b[0;36m<cell line: 3>\u001b[0;34m()\u001b[0m\n\u001b[1;32m      1\u001b[0m \u001b[0mtest_acc\u001b[0m \u001b[0;34m=\u001b[0m \u001b[0;32mNone\u001b[0m\u001b[0;34m\u001b[0m\u001b[0;34m\u001b[0m\u001b[0m\n\u001b[1;32m      2\u001b[0m \u001b[0;31m# TODO: report results on validation / test dataset\u001b[0m\u001b[0;34m\u001b[0m\u001b[0;34m\u001b[0m\u001b[0m\n\u001b[0;32m----> 3\u001b[0;31m \u001b[0mtest_features\u001b[0m \u001b[0;34m=\u001b[0m \u001b[0mtorch\u001b[0m\u001b[0;34m.\u001b[0m\u001b[0mrandn\u001b[0m\u001b[0;34m(\u001b[0m\u001b[0;34m(\u001b[0m\u001b[0;36m100\u001b[0m\u001b[0;34m,\u001b[0m \u001b[0minput_dim\u001b[0m\u001b[0;34m)\u001b[0m\u001b[0;34m)\u001b[0m\u001b[0;34m\u001b[0m\u001b[0;34m\u001b[0m\u001b[0m\n\u001b[0m\u001b[1;32m      4\u001b[0m \u001b[0mtest_targets\u001b[0m \u001b[0;34m=\u001b[0m \u001b[0mtorch\u001b[0m\u001b[0;34m.\u001b[0m\u001b[0mrandint\u001b[0m\u001b[0;34m(\u001b[0m\u001b[0;36m0\u001b[0m\u001b[0;34m,\u001b[0m \u001b[0moutput_dim\u001b[0m\u001b[0;34m,\u001b[0m \u001b[0;34m(\u001b[0m\u001b[0;36m100\u001b[0m\u001b[0;34m,\u001b[0m\u001b[0;34m)\u001b[0m\u001b[0;34m)\u001b[0m\u001b[0;34m\u001b[0m\u001b[0;34m\u001b[0m\u001b[0m\n\u001b[1;32m      5\u001b[0m \u001b[0;32mwith\u001b[0m \u001b[0mtorch\u001b[0m\u001b[0;34m.\u001b[0m\u001b[0mno_grad\u001b[0m\u001b[0;34m(\u001b[0m\u001b[0;34m)\u001b[0m\u001b[0;34m:\u001b[0m\u001b[0;34m\u001b[0m\u001b[0;34m\u001b[0m\u001b[0m\n",
            "\u001b[0;31mNameError\u001b[0m: name 'input_dim' is not defined"
          ]
        }
      ]
    },
    {
      "cell_type": "markdown",
      "source": [
        "![1700355385914.png](data:image/png;base64,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)"
      ],
      "metadata": {
        "id": "DTP2_fmvE-7H"
      }
    },
    {
      "cell_type": "markdown",
      "source": [
        "**Problem 4: Text Classification with Pytorch**\n",
        "\n",
        "In this problem, you will create a text-classification model thtat classifys whether a given movie review is positive or negative. We experiment with the dataset called [SST-2](https://nlp.stanford.edu/sentiment/).\n"
      ],
      "metadata": {
        "id": "msJIKT5eQnm0"
      }
    },
    {
      "cell_type": "markdown",
      "source": [
        "**Download SST-2 dataset**\n",
        "\n",
        "We provide you with the utility function that downloads and extracts document strings from raw SST-2 dataset."
      ],
      "metadata": {
        "id": "MLIwGmQMQz8-"
      }
    },
    {
      "cell_type": "code",
      "source": [
        "import requests\n",
        "import zipfile\n",
        "import csv\n",
        "\n",
        "def download_and_extract(url, local_filename, extract_dir):\n",
        "    try:\n",
        "        # Download the file\n",
        "        response = requests.get(url)\n",
        "        if response.status_code != 200:\n",
        "            raise Exception(f\"Failed to download {url}. Status code: {response.status_code}\")\n",
        "        # Save to local file\n",
        "        with open(local_filename, 'wb') as file:\n",
        "            file.write(response.content)\n",
        "        # Extract the file\n",
        "        with zipfile.ZipFile(local_filename, 'r') as zip_ref:\n",
        "            zip_ref.extractall(extract_dir)\n",
        "        print(f\"Extracted {local_filename} to {extract_dir} successfully.\")\n",
        "    except Exception as e:\n",
        "        print(f\"Error: {e}\")\n",
        "\n",
        "def read_sst2(path, maxidx=None):\n",
        "    data = {'documents' : [], 'labels' : []}\n",
        "    with open(path, newline=\"\", encoding=\"utf-8\") as csvfile:\n",
        "        reader = csv.DictReader(csvfile, delimiter=\"\\t\")\n",
        "        for i, row in enumerate(reader):\n",
        "            text = row[\"sentence\"]\n",
        "            label = int(row[\"label\"])  # Convert the label to an integer (0 or 1)\n",
        "            data['documents'].append(text)\n",
        "            data['labels'].append(label)\n",
        "\n",
        "            if i == maxidx:\n",
        "                break\n",
        "    print(\"Loaded \", len(data['documents']), \" sample from \", path)\n",
        "    return data\n",
        "\n",
        "SST2_URL = \"https://dl.fbaipublicfiles.com/glue/data/SST-2.zip\"\n",
        "download_and_extract(SST2_URL, 'sst2.zip', '.')\n",
        "sst2_train = read_sst2(\"SST-2/train.tsv\", )\n",
        "sst2_dev = read_sst2(\"SST-2/dev.tsv\", )\n",
        "print(\"Example documents: \\n\", sst2_train['documents'][:3])"
      ],
      "metadata": {
        "id": "ISw3TizGQ1In"
      },
      "execution_count": null,
      "outputs": []
    },
    {
      "cell_type": "markdown",
      "source": [
        "Similar to the classification on MNIST where we convert raw images into raw image features. We first need to convert the raw movie review string into a common text feature: [**bag-of-words**](https://www.wikiwand.com/en/Bag-of-words_model).\n",
        "\n",
        "\n",
        "**Problem 4-1: Tokenize**\n",
        "\n",
        "In natural language processing, we always first split the full text into small pieces, i.e., tokens. This process is called **tokenize**, which helps us construct a sequence of integers to represent the text.\n",
        "\n",
        "Below, you need to implement one basic tokenize function on the *documents*, that splits document string into a list of words and convert each word into corresponding integer index that represents the word.\n",
        "\n",
        "More specifically, you need to implement following functions:\n",
        "\n",
        "**normalize(document)**: a function that lowercases all characters in the document and adds whitespace before and after \".,!?:;\" characters.\n",
        "\n",
        "**build_vocab(documents)**: a function that stores all unique words in the documents string and corresponding index variable. Remember to add a special **\\<unk\\>** token into vocaboluary.\n",
        "\n",
        "**tokenize(vocab2id, document)**: a function that first split document into a sequence of words and then convert words into a list of corresponding integer index. For those unkown words, use the index of **\\<unk\\>** token to represent.\n",
        "\n",
        "**bag_of_words(vocab2id, documents)**: a function that constructs **bag-of-words** feature of documents. Bag of words is represented as a unordered collection of words."
      ],
      "metadata": {
        "id": "ePquGwCjQ3Kb"
      }
    },
    {
      "cell_type": "code",
      "source": [
        "documents = [\n",
        "    \"This is, the first document.\",\n",
        "    \"This document , is the second document.\",\n",
        "    \"And this is the third one.\",\n",
        "    \"Is this the first document?\",\n",
        "    \"How many documents are here\"\n",
        "]"
      ],
      "metadata": {
        "id": "-hwvfuC8Q5_E"
      },
      "execution_count": 96,
      "outputs": []
    },
    {
      "cell_type": "code",
      "source": [
        "import numpy as np\n",
        "from collections import Counter\n",
        "\n",
        "def normalize(document):\n",
        "    ## TODO:\n",
        "    ## 1. Lowercase all characters in the document.\n",
        "    ## 2. Add white space before and after following punctuation marks .,!?;:\n",
        "    document = document.lower()\n",
        "    punctuation_marks = [\".\", \",\", \"!\", \"?\", \";\", \":\"]\n",
        "    for mark in punctuation_marks:\n",
        "        document = document.replace(mark, f\" {mark} \")\n",
        "    return document\n",
        "    ## END OF YOUR CODE\n",
        "    return document\n",
        "\n",
        "def build_vocab(documents):\n",
        "    # Build vocabulary\n",
        "    vocabulary = set()\n",
        "\n",
        "    for document in documents:\n",
        "        ## TODO: normalize document, split the document string into pieces of words and find the unique words\n",
        "        normalized_document = normalize(document)\n",
        "        words = normalized_document.split()\n",
        "        vocabulary.update(words)\n",
        "        ## END OF YOUR CODE\n",
        "\n",
        "    vocabulary = sorted(list(vocabulary))\n",
        "    assert \"<unk>\" not in vocabulary\n",
        "\n",
        "    ## TODO: insert the <unk> token into the vocabulary\n",
        "    # Insert the <unk> token into the vocabulary\n",
        "    vocabulary.insert(0, \"<unk>\")\n",
        "    ## END OF YOUR CODE\n",
        "\n",
        "    word2id = {}\n",
        "    ## TODO: construct a mapping from word string into an integer index\n",
        "    for idx, word in enumerate(vocabulary):\n",
        "        word2id[word] = idx\n",
        "    ## END OF YOUR CODE\n",
        "\n",
        "    print(\"Number of unique words: \", len(vocabulary))\n",
        "    print(\"The words are\", vocabulary)\n",
        "    print(\"Word to id dict is: \", word2id)\n",
        "    return vocabulary, word2id\n",
        "\n",
        "def tokenize(word2id, document):\n",
        "    wordids = []\n",
        "    ## TODO: Tokenize the document string into a list of integers called wordids\n",
        "    normalized_document = normalize(document)\n",
        "    words = normalized_document.split()\n",
        "    for word in words:\n",
        "        word_id = word2id.get(word, word2id[\"<unk>\"])\n",
        "        wordids.append(word_id)\n",
        "    ## END OF YOUR WORDS\n",
        "    return wordids\n",
        "\n",
        "def bag_of_words_doc(word2id, document):\n",
        "    feature = None\n",
        "    ## TODO: Construct bag of word feature for a document\n",
        "    normalized_document = normalize(document)\n",
        "    words = normalized_document.split()\n",
        "    word_counts = Counter(words)\n",
        "    for word, count in word_counts.items():\n",
        "        word_id = word2id.get(word, word2id[\"<unk>\"])\n",
        "        feature.append((word_id, count))\n",
        "    ## END OF YOUR CODE\n",
        "    return feature\n",
        "\n",
        "vocab, word2id = build_vocab(documents)\n",
        "document = documents[0]\n",
        "print(\"Input document: \", document)\n",
        "print(\"Tokenize result: \", tokenize(word2id, document))\n",
        "print(\"Document bag of words feature: \", bag_of_words_doc(word2id, document))"
      ],
      "metadata": {
        "id": "IjtQZNubQ7S-",
        "colab": {
          "base_uri": "https://localhost:8080/",
          "height": 440
        },
        "outputId": "cd396ec1-f2df-4233-ec6a-5f759cd0334a"
      },
      "execution_count": 101,
      "outputs": [
        {
          "output_type": "stream",
          "name": "stdout",
          "text": [
            "Number of unique words:  18\n",
            "The words are ['<unk>', ',', '.', '?', 'and', 'are', 'document', 'documents', 'first', 'here', 'how', 'is', 'many', 'one', 'second', 'the', 'third', 'this']\n",
            "Word to id dict is:  {'<unk>': 0, ',': 1, '.': 2, '?': 3, 'and': 4, 'are': 5, 'document': 6, 'documents': 7, 'first': 8, 'here': 9, 'how': 10, 'is': 11, 'many': 12, 'one': 13, 'second': 14, 'the': 15, 'third': 16, 'this': 17}\n",
            "Input document:  This is, the first document.\n",
            "Tokenize result:  [17, 11, 1, 15, 8, 6, 2]\n"
          ]
        },
        {
          "output_type": "error",
          "ename": "AttributeError",
          "evalue": "ignored",
          "traceback": [
            "\u001b[0;31m---------------------------------------------------------------------------\u001b[0m",
            "\u001b[0;31mAttributeError\u001b[0m                            Traceback (most recent call last)",
            "\u001b[0;32m<ipython-input-101-3e5528c2f1e0>\u001b[0m in \u001b[0;36m<cell line: 73>\u001b[0;34m()\u001b[0m\n\u001b[1;32m     71\u001b[0m \u001b[0mprint\u001b[0m\u001b[0;34m(\u001b[0m\u001b[0;34m\"Input document: \"\u001b[0m\u001b[0;34m,\u001b[0m \u001b[0mdocument\u001b[0m\u001b[0;34m)\u001b[0m\u001b[0;34m\u001b[0m\u001b[0;34m\u001b[0m\u001b[0m\n\u001b[1;32m     72\u001b[0m \u001b[0mprint\u001b[0m\u001b[0;34m(\u001b[0m\u001b[0;34m\"Tokenize result: \"\u001b[0m\u001b[0;34m,\u001b[0m \u001b[0mtokenize\u001b[0m\u001b[0;34m(\u001b[0m\u001b[0mword2id\u001b[0m\u001b[0;34m,\u001b[0m \u001b[0mdocument\u001b[0m\u001b[0;34m)\u001b[0m\u001b[0;34m)\u001b[0m\u001b[0;34m\u001b[0m\u001b[0;34m\u001b[0m\u001b[0m\n\u001b[0;32m---> 73\u001b[0;31m \u001b[0mprint\u001b[0m\u001b[0;34m(\u001b[0m\u001b[0;34m\"Document bag of words feature: \"\u001b[0m\u001b[0;34m,\u001b[0m \u001b[0mbag_of_words_doc\u001b[0m\u001b[0;34m(\u001b[0m\u001b[0mword2id\u001b[0m\u001b[0;34m,\u001b[0m \u001b[0mdocument\u001b[0m\u001b[0;34m)\u001b[0m\u001b[0;34m)\u001b[0m\u001b[0;34m\u001b[0m\u001b[0;34m\u001b[0m\u001b[0m\n\u001b[0m",
            "\u001b[0;32m<ipython-input-101-3e5528c2f1e0>\u001b[0m in \u001b[0;36mbag_of_words_doc\u001b[0;34m(word2id, document)\u001b[0m\n\u001b[1;32m     63\u001b[0m     \u001b[0;32mfor\u001b[0m \u001b[0mword\u001b[0m\u001b[0;34m,\u001b[0m \u001b[0mcount\u001b[0m \u001b[0;32min\u001b[0m \u001b[0mword_counts\u001b[0m\u001b[0;34m.\u001b[0m\u001b[0mitems\u001b[0m\u001b[0;34m(\u001b[0m\u001b[0;34m)\u001b[0m\u001b[0;34m:\u001b[0m\u001b[0;34m\u001b[0m\u001b[0;34m\u001b[0m\u001b[0m\n\u001b[1;32m     64\u001b[0m         \u001b[0mword_id\u001b[0m \u001b[0;34m=\u001b[0m \u001b[0mword2id\u001b[0m\u001b[0;34m.\u001b[0m\u001b[0mget\u001b[0m\u001b[0;34m(\u001b[0m\u001b[0mword\u001b[0m\u001b[0;34m,\u001b[0m \u001b[0mword2id\u001b[0m\u001b[0;34m[\u001b[0m\u001b[0;34m\"<unk>\"\u001b[0m\u001b[0;34m]\u001b[0m\u001b[0;34m)\u001b[0m\u001b[0;34m\u001b[0m\u001b[0;34m\u001b[0m\u001b[0m\n\u001b[0;32m---> 65\u001b[0;31m         \u001b[0mfeature\u001b[0m\u001b[0;34m.\u001b[0m\u001b[0mappend\u001b[0m\u001b[0;34m(\u001b[0m\u001b[0;34m(\u001b[0m\u001b[0mword_id\u001b[0m\u001b[0;34m,\u001b[0m \u001b[0mcount\u001b[0m\u001b[0;34m)\u001b[0m\u001b[0;34m)\u001b[0m\u001b[0;34m\u001b[0m\u001b[0;34m\u001b[0m\u001b[0m\n\u001b[0m\u001b[1;32m     66\u001b[0m     \u001b[0;31m## END OF YOUR CODE\u001b[0m\u001b[0;34m\u001b[0m\u001b[0;34m\u001b[0m\u001b[0m\n\u001b[1;32m     67\u001b[0m     \u001b[0;32mreturn\u001b[0m \u001b[0mfeature\u001b[0m\u001b[0;34m\u001b[0m\u001b[0;34m\u001b[0m\u001b[0m\n",
            "\u001b[0;31mAttributeError\u001b[0m: 'NoneType' object has no attribute 'append'"
          ]
        }
      ]
    },
    {
      "cell_type": "markdown",
      "source": [
        "**Problem 4-2: Train MLP on SST2**\n",
        "\n",
        "Storing the full sst2 dataset in memory is infeasible due to memory limit, therefore, we need to dynamically convert a batch of raw document string into a batch of features in the original `train_mlp()` function.\n",
        "\n",
        "In this part, you need to modify the `train_mlp()` function a little. Then train a two layer MLP on SST-2 dataset, visualize the training losses and validation loss, report the accuracy on validation set."
      ],
      "metadata": {
        "id": "LKr8dEPMRLbg"
      }
    },
    {
      "cell_type": "code",
      "source": [
        "def train_mlp_sst(num_epochs, batch_size, lr, word2id, model, sst2_train, sst2_val):\n",
        "    '''\n",
        "    This function trains the model w using stochastic gradient desent on the dataset (train_features, train_targets).\n",
        "    Returns:\n",
        "    model: the optimized model.\n",
        "    '''\n",
        "\n",
        "    losses = []\n",
        "    accs = []\n",
        "    val_losses = []\n",
        "    val_accs = []\n",
        "\n",
        "    ## TODO: define loss function and optimizer\n",
        "    loss_fn = nn.CrossEntropyLoss()\n",
        "    optimizer = optim.SGD(model.parameters(), lr=lr)\n",
        "    ## End of your code\n",
        "\n",
        "    # Train loop\n",
        "    for epoch in range(num_epochs):\n",
        "        ## TODO: shuffle training data\n",
        "        model.train()\n",
        "        np.random.shuffle(sst2_train)\n",
        "        train_batches = [sst2_train[i:i + batch_size] for i in range(0, len(sst2_train), batch_size)]\n",
        "        ## End of your code\n",
        "\n",
        "        epoch_step = math.ceil(train_features.shape[0] / batch_size)\n",
        "        for batch in range(epoch_step):\n",
        "            ## TODO: get features and labels for the batch: dynamically convert raw document string into feature tensors\n",
        "            batch_documents, batch_labels = zip(*batch)\n",
        "            batch_features = [bag_of_words_doc(word2id, doc) for doc in batch_documents]\n",
        "            batch_features = torch.tensor([list(features.values()) for features in batch_features], dtype=torch.float32)\n",
        "            ## TODO: calculate loss and gradient\n",
        "            batch_labels = torch.tensor(batch_labels, dtype=torch.long)\n",
        "            predictions = model(batch_features)\n",
        "            loss = loss_fn(predictions, batch_labels)\n",
        "            optimizer.zero_grad()\n",
        "            ## TODO: update parameters\n",
        "            loss.backward()\n",
        "            optimizer.step()\n",
        "            ## Note: remember to clear .grad before every iteration\n",
        "            pass\n",
        "\n",
        "            ## End of your code\n",
        "\n",
        "        ## TODO: calculate loss, predictions, and accuracy\n",
        "        with torch.no_grad():\n",
        "          train_features = [bag_of_words_doc(word2id, doc) for doc in sst2_train_documents]\n",
        "          train_features = torch.tensor([list(features.values()) for features in train_features], dtype=torch.float32)\n",
        "          train_labels = torch.tensor(sst2_train_labels, dtype=torch.long)\n",
        "          train_predictions = model(train_features)\n",
        "          train_loss = loss_fn(train_predictions, train_labels)\n",
        "\n",
        "          val_features = [bag_of_words_doc(word2id, doc) for doc in sst2_val_documents]\n",
        "          val_features = torch.tensor([list(features.values()) for features in val_features], dtype=torch.float32)\n",
        "          val_labels = torch.tensor(sst2_val_labels, dtype=torch.long)\n",
        "          val_predictions = model(val_features)\n",
        "          val_loss = loss_fn(val_predictions, val_labels)\n",
        "          val_accuracy_epoch = torch.sum(torch.argmax(val_predictions, dim=1) == val_labels).item() / len(val_labels)\n",
        "        ## End of your code\n",
        "        losses.append(loss.item())\n",
        "        accs.append(val_accuracy_epoch.item())\n",
        "        val_losses.append(val_loss)\n",
        "        val_accs.append(val_accuracy_epoch)\n",
        "\n",
        "\n",
        "    print(\"Training done\")\n",
        "    visualize_loss_acc(losses, accs)\n",
        "    visualize_loss_acc(val_losses, val_accs)\n",
        "    return model"
      ],
      "metadata": {
        "id": "0flAR3YwRMhd"
      },
      "execution_count": 104,
      "outputs": []
    },
    {
      "cell_type": "markdown",
      "source": [
        "**Construct vocabulary on SST-2**\n",
        "\n",
        "Now you have implemented the bag-of-words feature extraction. We need to build the vocabulary for the SST-2 dataset."
      ],
      "metadata": {
        "id": "K7-w0GqgicfK"
      }
    },
    {
      "cell_type": "code",
      "source": [
        "vocab, word2id = build_vocab(sst2_train['documents'])"
      ],
      "metadata": {
        "id": "ugevlVBnieY-"
      },
      "execution_count": null,
      "outputs": []
    },
    {
      "cell_type": "markdown",
      "source": [
        "**Train loop**"
      ],
      "metadata": {
        "id": "rJoKVVdfj7Ev"
      }
    },
    {
      "cell_type": "code",
      "source": [
        "# STOCHASTIC GRADIENT DESCENT HYPER-PARAMETERS\n",
        "num_epochs = 10\n",
        "batch_size = 64\n",
        "lr = 2e-5\n",
        "hidden_dim = 256 # use this as hidden layer dimension\n",
        "\n",
        "model = None\n",
        "#################################\n",
        "## TODO: initialize model      ##\n",
        "#################################\n",
        "model = TwoLayerMLP(input_dim=len(vocab), hidden_dim=hidden_dim, output_dim=2)\n",
        "# Train the model on SST-2 dataset\n",
        "model = train_mlp_sst(num_epochs, batch_size, lr, word2id, model, sst2_train, sst2_val)\n",
        "##################################\n",
        "######### End of your code #######\n",
        "##################################\n",
        "model = train_mlp_sst(num_epochs, batch_size, lr, word2id, model, sst2_train, sst2_dev)"
      ],
      "metadata": {
        "id": "nSn3bDWHROFU",
        "colab": {
          "base_uri": "https://localhost:8080/",
          "height": 247
        },
        "outputId": "5d1d3c18-35b2-4745-e44c-009e65a1ba8c"
      },
      "execution_count": 103,
      "outputs": [
        {
          "output_type": "error",
          "ename": "NameError",
          "evalue": "ignored",
          "traceback": [
            "\u001b[0;31m---------------------------------------------------------------------------\u001b[0m",
            "\u001b[0;31mNameError\u001b[0m                                 Traceback (most recent call last)",
            "\u001b[0;32m<ipython-input-103-7e06aee58876>\u001b[0m in \u001b[0;36m<cell line: 13>\u001b[0;34m()\u001b[0m\n\u001b[1;32m     11\u001b[0m \u001b[0mmodel\u001b[0m \u001b[0;34m=\u001b[0m \u001b[0mTwoLayerMLP\u001b[0m\u001b[0;34m(\u001b[0m\u001b[0minput_dim\u001b[0m\u001b[0;34m=\u001b[0m\u001b[0mlen\u001b[0m\u001b[0;34m(\u001b[0m\u001b[0mvocab\u001b[0m\u001b[0;34m)\u001b[0m\u001b[0;34m,\u001b[0m \u001b[0mhidden_dim\u001b[0m\u001b[0;34m=\u001b[0m\u001b[0mhidden_dim\u001b[0m\u001b[0;34m,\u001b[0m \u001b[0moutput_dim\u001b[0m\u001b[0;34m=\u001b[0m\u001b[0;36m2\u001b[0m\u001b[0;34m)\u001b[0m\u001b[0;34m\u001b[0m\u001b[0;34m\u001b[0m\u001b[0m\n\u001b[1;32m     12\u001b[0m \u001b[0;31m# Train the model on SST-2 dataset\u001b[0m\u001b[0;34m\u001b[0m\u001b[0;34m\u001b[0m\u001b[0m\n\u001b[0;32m---> 13\u001b[0;31m \u001b[0mmodel\u001b[0m \u001b[0;34m=\u001b[0m \u001b[0mtrain_mlp_sst\u001b[0m\u001b[0;34m(\u001b[0m\u001b[0mnum_epochs\u001b[0m\u001b[0;34m,\u001b[0m \u001b[0mbatch_size\u001b[0m\u001b[0;34m,\u001b[0m \u001b[0mlr\u001b[0m\u001b[0;34m,\u001b[0m \u001b[0mword2id\u001b[0m\u001b[0;34m,\u001b[0m \u001b[0mmodel\u001b[0m\u001b[0;34m,\u001b[0m \u001b[0msst2_train\u001b[0m\u001b[0;34m,\u001b[0m \u001b[0msst2_val\u001b[0m\u001b[0;34m)\u001b[0m\u001b[0;34m\u001b[0m\u001b[0;34m\u001b[0m\u001b[0m\n\u001b[0m\u001b[1;32m     14\u001b[0m \u001b[0;31m##################################\u001b[0m\u001b[0;34m\u001b[0m\u001b[0;34m\u001b[0m\u001b[0m\n\u001b[1;32m     15\u001b[0m \u001b[0;31m######### End of your code #######\u001b[0m\u001b[0;34m\u001b[0m\u001b[0;34m\u001b[0m\u001b[0m\n",
            "\u001b[0;31mNameError\u001b[0m: name 'sst2_train' is not defined"
          ]
        }
      ]
    },
    {
      "cell_type": "markdown",
      "source": [
        "**Problem 4-3: Effect of number of layers**\n",
        "\n",
        "Experiment with different hyper-parameters: try fully-connected models with 3, 5, 10 layers. You need to implement a new class called `NLayerMLP` that takes the number of layers as hyper-parameter and constructs an MLP with multiple layers (all hidden layers have the same dimension).\n",
        "\n",
        "Visualize the training loss and validation loss (visualize validation loss at the end of each epoch), discuss your findings."
      ],
      "metadata": {
        "id": "QjFaxGgiRPpd"
      }
    },
    {
      "cell_type": "code",
      "source": [
        "class NLayerMLP(nn.Module):\n",
        "    def __init__(self, input_dim: int, hidden_dim: int, output_dim: int, num_layers: int):\n",
        "        '''\n",
        "        Create a N-layer fully-connect network\n",
        "        Inputs:\n",
        "        input_dim: dimension of input features\n",
        "        hidden_dim: dimension of hidden layer\n",
        "        output_dim: dimension of output\n",
        "        num_layers: number of hidden layers\n",
        "        '''\n",
        "        super().__init__()\n",
        "        ## TODO: define layers in the model\n",
        "        ## Model architecture: input --> hidden layer (x N) --> output\n",
        "        layers = []\n",
        "        layers.append(nn.Linear(input_dim, hidden_dim))\n",
        "        layers.append(nn.ReLU())\n",
        "\n",
        "        for _ in range(num_layers - 2):\n",
        "            layers.append(nn.Linear(hidden_dim, hidden_dim))\n",
        "            layers.append(nn.ReLU())\n",
        "\n",
        "        layers.append(nn.Linear(hidden_dim, output_dim))\n",
        "        self.model = nn.Sequential(*layers)\n",
        "        ## End of your code\n",
        "\n",
        "    def forward(self, x):\n",
        "        logits = None\n",
        "        ## TODO: forward pass\n",
        "        logits = self.model(x)\n",
        "        ## End of your code\n",
        "        return logits"
      ],
      "metadata": {
        "id": "p2ScR5EKRQv7"
      },
      "execution_count": 106,
      "outputs": []
    },
    {
      "cell_type": "code",
      "source": [
        "# STOCHASTIC GRADIENT DESCENT HYPER-PARAMETERS\n",
        "num_epochs = 10\n",
        "batch_size = 64\n",
        "lr = 2e-5\n",
        "hidden_dim = 256 # use this as hidden layer dimension\n",
        "num_layers = 5\n",
        "\n",
        "model = None\n",
        "#################################\n",
        "## TODO: initialize model      ##\n",
        "#################################\n",
        "model = NLayerMLP(input_dim=len(vocab), hidden_dim=hidden_dim, output_dim=2, num_layers=num_layers)\n",
        "model = train_mlp_sst(num_epochs, batch_size, lr, word2id, model, sst2_train, sst2_dev)\n",
        "##################################\n",
        "######### End of your code #######\n",
        "##################################\n",
        "model = train_mlp_sst(num_epochs, batch_size, lr, word2id, model, sst2_train, sst2_dev)"
      ],
      "metadata": {
        "id": "NSGkv99rRRuv",
        "colab": {
          "base_uri": "https://localhost:8080/",
          "height": 247
        },
        "outputId": "06b139e3-b0af-4609-c68d-351f8a009bd6"
      },
      "execution_count": 108,
      "outputs": [
        {
          "output_type": "error",
          "ename": "NameError",
          "evalue": "ignored",
          "traceback": [
            "\u001b[0;31m---------------------------------------------------------------------------\u001b[0m",
            "\u001b[0;31mNameError\u001b[0m                                 Traceback (most recent call last)",
            "\u001b[0;32m<ipython-input-108-3ea11fbc6705>\u001b[0m in \u001b[0;36m<cell line: 13>\u001b[0;34m()\u001b[0m\n\u001b[1;32m     11\u001b[0m \u001b[0;31m#################################\u001b[0m\u001b[0;34m\u001b[0m\u001b[0;34m\u001b[0m\u001b[0m\n\u001b[1;32m     12\u001b[0m \u001b[0mmodel\u001b[0m \u001b[0;34m=\u001b[0m \u001b[0mNLayerMLP\u001b[0m\u001b[0;34m(\u001b[0m\u001b[0minput_dim\u001b[0m\u001b[0;34m=\u001b[0m\u001b[0mlen\u001b[0m\u001b[0;34m(\u001b[0m\u001b[0mvocab\u001b[0m\u001b[0;34m)\u001b[0m\u001b[0;34m,\u001b[0m \u001b[0mhidden_dim\u001b[0m\u001b[0;34m=\u001b[0m\u001b[0mhidden_dim\u001b[0m\u001b[0;34m,\u001b[0m \u001b[0moutput_dim\u001b[0m\u001b[0;34m=\u001b[0m\u001b[0;36m2\u001b[0m\u001b[0;34m,\u001b[0m \u001b[0mnum_layers\u001b[0m\u001b[0;34m=\u001b[0m\u001b[0mnum_layers\u001b[0m\u001b[0;34m)\u001b[0m\u001b[0;34m\u001b[0m\u001b[0;34m\u001b[0m\u001b[0m\n\u001b[0;32m---> 13\u001b[0;31m \u001b[0mmodel\u001b[0m \u001b[0;34m=\u001b[0m \u001b[0mtrain_mlp_sst\u001b[0m\u001b[0;34m(\u001b[0m\u001b[0mnum_epochs\u001b[0m\u001b[0;34m,\u001b[0m \u001b[0mbatch_size\u001b[0m\u001b[0;34m,\u001b[0m \u001b[0mlr\u001b[0m\u001b[0;34m,\u001b[0m \u001b[0mword2id\u001b[0m\u001b[0;34m,\u001b[0m \u001b[0mmodel\u001b[0m\u001b[0;34m,\u001b[0m \u001b[0msst2_train\u001b[0m\u001b[0;34m,\u001b[0m \u001b[0msst2_dev\u001b[0m\u001b[0;34m)\u001b[0m\u001b[0;34m\u001b[0m\u001b[0;34m\u001b[0m\u001b[0m\n\u001b[0m\u001b[1;32m     14\u001b[0m \u001b[0;31m##################################\u001b[0m\u001b[0;34m\u001b[0m\u001b[0;34m\u001b[0m\u001b[0m\n\u001b[1;32m     15\u001b[0m \u001b[0;31m######### End of your code #######\u001b[0m\u001b[0;34m\u001b[0m\u001b[0;34m\u001b[0m\u001b[0m\n",
            "\u001b[0;31mNameError\u001b[0m: name 'sst2_train' is not defined"
          ]
        }
      ]
    }
  ]
}